{
  "nbformat": 4,
  "nbformat_minor": 0,
  "metadata": {
    "colab": {
      "name": "Project.ipynb",
      "provenance": []
    },
    "kernelspec": {
      "name": "python3",
      "display_name": "Python 3"
    },
    "language_info": {
      "name": "python"
    }
  },
  "cells": [
    {
      "cell_type": "code",
      "execution_count": 1,
      "metadata": {
        "id": "UjTDJglJ69lq"
      },
      "outputs": [],
      "source": [
        "import pandas as pd\n",
        "import numpy as np\n",
        "import re\n",
        "pd.options.mode.chained_assignment = None "
      ]
    },
    {
      "cell_type": "code",
      "source": [
        "# Opening .xlsx file \n",
        "\n",
        "excelpath = input('Enter .xlsx file path: ')\n",
        "df_excel = pd.read_excel(excelpath)"
      ],
      "metadata": {
        "colab": {
          "base_uri": "https://localhost:8080/"
        },
        "id": "Or3Dh_KV6-Ox",
        "outputId": "5d8573cd-40cb-421f-cc1a-f4c6ce458a90"
      },
      "execution_count": 2,
      "outputs": [
        {
          "name": "stdout",
          "output_type": "stream",
          "text": [
            "Enter .xlsx file path: /content/GAS12E01.xlsx\n"
          ]
        }
      ]
    },
    {
      "cell_type": "code",
      "source": [
        "# Converting columns to lists for later\n",
        "\n",
        "col_start = df_excel['Start,time'].tolist()\n",
        "col_end = df_excel['End,time'].tolist()\n",
        "col_pp = df_excel['PP'].tolist()\n",
        "col_sp = df_excel['SP'].tolist()\n",
        "col_mp = df_excel['MP'].tolist()"
      ],
      "metadata": {
        "id": "aSXqcW2n6_ff"
      },
      "execution_count": 3,
      "outputs": []
    },
    {
      "cell_type": "code",
      "source": [
        "# Opening .srt file \n",
        "\n",
        "srtpath = input('Enter .srt file path: ')\n",
        "with open(srtpath, 'r') as f:\n",
        "  subs = f.read().splitlines()"
      ],
      "metadata": {
        "id": "N5S4MGcE7Ay4",
        "colab": {
          "base_uri": "https://localhost:8080/"
        },
        "outputId": "b57e9ea7-917b-41fa-ff42-f29feb567fb4"
      },
      "execution_count": 4,
      "outputs": [
        {
          "name": "stdout",
          "output_type": "stream",
          "text": [
            "Enter .srt file path: /content/Greys.Anatomy.S12E01.REPACK.HDTV.x264-KILLERS[eztv].it.srt\n"
          ]
        }
      ]
    },
    {
      "cell_type": "code",
      "source": [
        "# Parsing .srt file\n",
        "\n",
        "re_pattern = r'[0-9]{2}:[0-9]{2}:[0-9]{2},[0-9]{3} -->'\n",
        "regex = re.compile(re_pattern)\n",
        "\n",
        "start_times = list(filter(regex.search, subs))\n",
        "start_times = [time.split(' ')[0] for time in start_times]\n",
        "start_times_datetime = pd.to_datetime(start_times, format=\"%H:%M:%S,%f\")\n",
        "\n",
        "end_times = list(filter(regex.search,subs))\n",
        "end_times = [time.split(' ')[2] for time in end_times]\n",
        "end_times_datetime = pd.to_datetime(end_times, format=\"%H:%M:%S,%f\")\n",
        "\n",
        "subtitles = [[]]\n",
        "for sub in subs:\n",
        "    if re.match(re_pattern, sub):\n",
        "        subtitles[-1].pop()\n",
        "        subtitles.append([])\n",
        "    else:\n",
        "        subtitles[-1].append(sub)\n",
        "\n",
        "subtitles = subtitles[1:]\n",
        "subtitles = [' '.join(x) for x in subtitles]"
      ],
      "metadata": {
        "id": "2DASFmeP7CM9"
      },
      "execution_count": 5,
      "outputs": []
    },
    {
      "cell_type": "code",
      "source": [
        "# Computing the mean of each subtitle's timespan, which is used later\n",
        "# to align the subs with the Excel segments\n",
        "\n",
        "average_times = []\n",
        "\n",
        "for x, y in zip(start_times_datetime, end_times_datetime):\n",
        "  ts1 = x\n",
        "  ts2 = y\n",
        "  average_time = ts1+(ts2-ts1)/2\n",
        "  average_times.append(average_time)"
      ],
      "metadata": {
        "id": "xbZSPm-B7GXo"
      },
      "execution_count": 6,
      "outputs": []
    },
    {
      "cell_type": "code",
      "source": [
        "# By default, milliseconds are displayed in a six-digit format:\n",
        "\n",
        "print(start_times_datetime[0])\n",
        "print(end_times_datetime[0])"
      ],
      "metadata": {
        "colab": {
          "base_uri": "https://localhost:8080/"
        },
        "id": "8hbYIg35LQfJ",
        "outputId": "6e4b04fc-d8e9-460a-d5c5-e306a7d59610"
      },
      "execution_count": 7,
      "outputs": [
        {
          "output_type": "stream",
          "name": "stdout",
          "text": [
            "1900-01-01 00:00:00.893000\n",
            "1900-01-01 00:00:02.567000\n"
          ]
        }
      ]
    },
    {
      "cell_type": "code",
      "source": [
        "# This function removes the extra 0s (and the dates):\n",
        "\n",
        "format_start = []\n",
        "format_end = []\n",
        "\n",
        "def format_time(x, y):\n",
        "    s = x.strftime('%H:%M:%S.%f')\n",
        "    s = s[:-3]                      # [:-3] cut extra digits / [:-7] cut milliseconds altogether\n",
        "    y = y.strftime('%H:%M:%S.%f') \n",
        "    y = y[:-3]\n",
        "    format_start.append(s)\n",
        "    format_end.append(y)\n",
        "\n",
        "for x, y in zip(start_times_datetime, end_times_datetime):\n",
        "  format_time(x, y)\n",
        "\n",
        "print(format_start[:5])\n",
        "print(format_end[:5])"
      ],
      "metadata": {
        "colab": {
          "base_uri": "https://localhost:8080/"
        },
        "id": "tD4XFqDOGrbG",
        "outputId": "cc4ce7bb-0458-48f8-8c7f-71bc06fc7683"
      },
      "execution_count": 8,
      "outputs": [
        {
          "output_type": "stream",
          "name": "stdout",
          "text": [
            "['00:00:00.893', '00:00:02.577', '00:00:04.464', '00:00:07.298', '00:00:08.465']\n",
            "['00:00:02.567', '00:00:04.455', '00:00:07.288', '00:00:08.455', '00:00:10.692']\n"
          ]
        }
      ]
    },
    {
      "cell_type": "code",
      "source": [
        "# Creating a DataFrame from the .srt data\n",
        "\n",
        "df_subs = pd.DataFrame()\n",
        "df_subs['Sub start'] = pd.Series(format_start)\n",
        "df_subs['Sub end'] = pd.Series(format_end)\n",
        "df_subs['Sub text'] = pd.Series(subtitles)\n",
        "df_subs['Average'] = pd.Series(average_times).dt.time   "
      ],
      "metadata": {
        "id": "saspOAoV7k2F"
      },
      "execution_count": 9,
      "outputs": []
    },
    {
      "cell_type": "code",
      "source": [
        "# Function that returns a df, which contains the subtitles that correspond\n",
        "# to a segment in the Excel file, and appends it to a list\n",
        "\n",
        "dfs_list = []\n",
        "\n",
        "def filter_subs(start, end, pp, sp, mp):\n",
        "\n",
        "    mask = (df_subs['Average'] > start) & (df_subs['Average'] <= end)   # Using the average that I calculated before\n",
        "    mask_df = df_subs.loc[mask]\n",
        "\n",
        "    if len(mask_df.index.values) == 0:\n",
        "\n",
        "      empty_df_template = {\n",
        "      'Start' : start,\n",
        "      'End' : end,\n",
        "      'Sub start' : ['NaN'],\n",
        "      'Sub end' : ['NaN'],\n",
        "      'Sub text' : ['NaN'],\n",
        "      'PP' : pp,\n",
        "      'SP' : sp,\n",
        "      'MP' : mp,\n",
        "      }\n",
        "\n",
        "      empty_df = pd.DataFrame(empty_df_template)\n",
        "      empty_df.replace('NaN',np.NaN)\n",
        "      dfs_list.append(empty_df)\n",
        "\n",
        "    else:\n",
        "\n",
        "      mask_df['Start'] = start\n",
        "      mask_df['End'] = end\n",
        "      mask_df['PP'] = pp\n",
        "      mask_df['SP'] = sp\n",
        "      mask_df['MP'] = mp\n",
        "      dfs_list.append(mask_df)\n",
        "\n",
        "# Filtering all of the subtitles\n",
        "\n",
        "for a, b, c, d, e in zip(col_start, col_end, col_pp, col_sp, col_mp):\n",
        "  filter_subs(a, b, c, d, e)"
      ],
      "metadata": {
        "id": "X1JghF8R73bO"
      },
      "execution_count": 10,
      "outputs": []
    },
    {
      "cell_type": "code",
      "source": [
        "# Combining the dfs and displaying the results in a nicer way\n",
        "\n",
        "combined_data = pd.concat(dfs_list)\n",
        "combined_data[\"Excel segment\"] = combined_data[\"Start\"].astype(str) + \"-\" + combined_data[\"End\"].astype(str)\n",
        "combined_data = combined_data.drop(['Start', 'End'], axis=1)\n",
        "combined_data = combined_data[['Excel segment', 'Sub start', 'Sub end', 'PP', 'SP', 'MP', 'Sub text']]\n",
        "combined_data = combined_data .rename(columns={'Sub start':'Subtitle start', 'Sub end':'Subtitle end', 'Sub text':'Subtitle text'})\n",
        "combined_data.reset_index(drop=True)"
      ],
      "metadata": {
        "colab": {
          "base_uri": "https://localhost:8080/",
          "height": 423
        },
        "id": "wsFZYBPp8EaG",
        "outputId": "6f6eed8e-c0ac-4e2c-9f7b-4496ad5ad8ab"
      },
      "execution_count": 11,
      "outputs": [
        {
          "output_type": "execute_result",
          "data": {
            "text/plain": [
              "         Excel segment Subtitle start  Subtitle end   PP   SP   MP  \\\n",
              "0    00:00:00-00:00:07   00:00:00.893  00:00:02.567  NaN  NaN  NaN   \n",
              "1    00:00:00-00:00:07   00:00:02.577  00:00:04.455  NaN  NaN  NaN   \n",
              "2    00:00:00-00:00:07   00:00:04.464  00:00:07.288  NaN  NaN  NaN   \n",
              "3    00:00:07-00:00:28   00:00:07.298  00:00:08.455  0.0  6.0  0.0   \n",
              "4    00:00:07-00:00:28   00:00:08.465  00:00:10.692  0.0  6.0  0.0   \n",
              "..                 ...            ...           ...  ...  ...  ...   \n",
              "845  00:40:53-00:40:54   00:40:51.934  00:40:54.166  0.0  6.0  0.0   \n",
              "846  00:40:54-00:40:55            NaN           NaN  6.0  0.0  0.0   \n",
              "847  00:40:55-00:40:58   00:40:55.251  00:40:56.902  0.0  6.0  0.0   \n",
              "848  00:40:58-00:41:00   00:40:59.039  00:41:00.489  6.0  0.0  0.0   \n",
              "849  00:41:00-00:41:02            NaN           NaN  0.0  6.0  0.0   \n",
              "\n",
              "                                         Subtitle text  \n",
              "0    <i>Ognuno di voi e' venuto qui oggi carico di ...  \n",
              "1             <i>Ho cinque regole. Memorizzatele.</i>   \n",
              "2    <i>Qualcuno sa dirmi le cause piu' comuni dell...  \n",
              "3                          <i>Magari penserete...</i>   \n",
              "4    <i>Regola numero 5. Quando mi muovo io, vi muo...  \n",
              "..                                                 ...  \n",
              "845  <i>Posizionatevi sotto il processo xifoideo......  \n",
              "846                                                NaN  \n",
              "847                    <i>Premete con fermezza...</i>   \n",
              "848                 <i>E senza alcun rimpianto...</i>   \n",
              "849                                                NaN  \n",
              "\n",
              "[850 rows x 7 columns]"
            ],
            "text/html": [
              "\n",
              "  <div id=\"df-c3a34669-1909-4a4d-941c-5cc8075f446a\">\n",
              "    <div class=\"colab-df-container\">\n",
              "      <div>\n",
              "<style scoped>\n",
              "    .dataframe tbody tr th:only-of-type {\n",
              "        vertical-align: middle;\n",
              "    }\n",
              "\n",
              "    .dataframe tbody tr th {\n",
              "        vertical-align: top;\n",
              "    }\n",
              "\n",
              "    .dataframe thead th {\n",
              "        text-align: right;\n",
              "    }\n",
              "</style>\n",
              "<table border=\"1\" class=\"dataframe\">\n",
              "  <thead>\n",
              "    <tr style=\"text-align: right;\">\n",
              "      <th></th>\n",
              "      <th>Excel segment</th>\n",
              "      <th>Subtitle start</th>\n",
              "      <th>Subtitle end</th>\n",
              "      <th>PP</th>\n",
              "      <th>SP</th>\n",
              "      <th>MP</th>\n",
              "      <th>Subtitle text</th>\n",
              "    </tr>\n",
              "  </thead>\n",
              "  <tbody>\n",
              "    <tr>\n",
              "      <th>0</th>\n",
              "      <td>00:00:00-00:00:07</td>\n",
              "      <td>00:00:00.893</td>\n",
              "      <td>00:00:02.567</td>\n",
              "      <td>NaN</td>\n",
              "      <td>NaN</td>\n",
              "      <td>NaN</td>\n",
              "      <td>&lt;i&gt;Ognuno di voi e' venuto qui oggi carico di ...</td>\n",
              "    </tr>\n",
              "    <tr>\n",
              "      <th>1</th>\n",
              "      <td>00:00:00-00:00:07</td>\n",
              "      <td>00:00:02.577</td>\n",
              "      <td>00:00:04.455</td>\n",
              "      <td>NaN</td>\n",
              "      <td>NaN</td>\n",
              "      <td>NaN</td>\n",
              "      <td>&lt;i&gt;Ho cinque regole. Memorizzatele.&lt;/i&gt;</td>\n",
              "    </tr>\n",
              "    <tr>\n",
              "      <th>2</th>\n",
              "      <td>00:00:00-00:00:07</td>\n",
              "      <td>00:00:04.464</td>\n",
              "      <td>00:00:07.288</td>\n",
              "      <td>NaN</td>\n",
              "      <td>NaN</td>\n",
              "      <td>NaN</td>\n",
              "      <td>&lt;i&gt;Qualcuno sa dirmi le cause piu' comuni dell...</td>\n",
              "    </tr>\n",
              "    <tr>\n",
              "      <th>3</th>\n",
              "      <td>00:00:07-00:00:28</td>\n",
              "      <td>00:00:07.298</td>\n",
              "      <td>00:00:08.455</td>\n",
              "      <td>0.0</td>\n",
              "      <td>6.0</td>\n",
              "      <td>0.0</td>\n",
              "      <td>&lt;i&gt;Magari penserete...&lt;/i&gt;</td>\n",
              "    </tr>\n",
              "    <tr>\n",
              "      <th>4</th>\n",
              "      <td>00:00:07-00:00:28</td>\n",
              "      <td>00:00:08.465</td>\n",
              "      <td>00:00:10.692</td>\n",
              "      <td>0.0</td>\n",
              "      <td>6.0</td>\n",
              "      <td>0.0</td>\n",
              "      <td>&lt;i&gt;Regola numero 5. Quando mi muovo io, vi muo...</td>\n",
              "    </tr>\n",
              "    <tr>\n",
              "      <th>...</th>\n",
              "      <td>...</td>\n",
              "      <td>...</td>\n",
              "      <td>...</td>\n",
              "      <td>...</td>\n",
              "      <td>...</td>\n",
              "      <td>...</td>\n",
              "      <td>...</td>\n",
              "    </tr>\n",
              "    <tr>\n",
              "      <th>845</th>\n",
              "      <td>00:40:53-00:40:54</td>\n",
              "      <td>00:40:51.934</td>\n",
              "      <td>00:40:54.166</td>\n",
              "      <td>0.0</td>\n",
              "      <td>6.0</td>\n",
              "      <td>0.0</td>\n",
              "      <td>&lt;i&gt;Posizionatevi sotto il processo xifoideo......</td>\n",
              "    </tr>\n",
              "    <tr>\n",
              "      <th>846</th>\n",
              "      <td>00:40:54-00:40:55</td>\n",
              "      <td>NaN</td>\n",
              "      <td>NaN</td>\n",
              "      <td>6.0</td>\n",
              "      <td>0.0</td>\n",
              "      <td>0.0</td>\n",
              "      <td>NaN</td>\n",
              "    </tr>\n",
              "    <tr>\n",
              "      <th>847</th>\n",
              "      <td>00:40:55-00:40:58</td>\n",
              "      <td>00:40:55.251</td>\n",
              "      <td>00:40:56.902</td>\n",
              "      <td>0.0</td>\n",
              "      <td>6.0</td>\n",
              "      <td>0.0</td>\n",
              "      <td>&lt;i&gt;Premete con fermezza...&lt;/i&gt;</td>\n",
              "    </tr>\n",
              "    <tr>\n",
              "      <th>848</th>\n",
              "      <td>00:40:58-00:41:00</td>\n",
              "      <td>00:40:59.039</td>\n",
              "      <td>00:41:00.489</td>\n",
              "      <td>6.0</td>\n",
              "      <td>0.0</td>\n",
              "      <td>0.0</td>\n",
              "      <td>&lt;i&gt;E senza alcun rimpianto...&lt;/i&gt;</td>\n",
              "    </tr>\n",
              "    <tr>\n",
              "      <th>849</th>\n",
              "      <td>00:41:00-00:41:02</td>\n",
              "      <td>NaN</td>\n",
              "      <td>NaN</td>\n",
              "      <td>0.0</td>\n",
              "      <td>6.0</td>\n",
              "      <td>0.0</td>\n",
              "      <td>NaN</td>\n",
              "    </tr>\n",
              "  </tbody>\n",
              "</table>\n",
              "<p>850 rows × 7 columns</p>\n",
              "</div>\n",
              "      <button class=\"colab-df-convert\" onclick=\"convertToInteractive('df-c3a34669-1909-4a4d-941c-5cc8075f446a')\"\n",
              "              title=\"Convert this dataframe to an interactive table.\"\n",
              "              style=\"display:none;\">\n",
              "        \n",
              "  <svg xmlns=\"http://www.w3.org/2000/svg\" height=\"24px\"viewBox=\"0 0 24 24\"\n",
              "       width=\"24px\">\n",
              "    <path d=\"M0 0h24v24H0V0z\" fill=\"none\"/>\n",
              "    <path d=\"M18.56 5.44l.94 2.06.94-2.06 2.06-.94-2.06-.94-.94-2.06-.94 2.06-2.06.94zm-11 1L8.5 8.5l.94-2.06 2.06-.94-2.06-.94L8.5 2.5l-.94 2.06-2.06.94zm10 10l.94 2.06.94-2.06 2.06-.94-2.06-.94-.94-2.06-.94 2.06-2.06.94z\"/><path d=\"M17.41 7.96l-1.37-1.37c-.4-.4-.92-.59-1.43-.59-.52 0-1.04.2-1.43.59L10.3 9.45l-7.72 7.72c-.78.78-.78 2.05 0 2.83L4 21.41c.39.39.9.59 1.41.59.51 0 1.02-.2 1.41-.59l7.78-7.78 2.81-2.81c.8-.78.8-2.07 0-2.86zM5.41 20L4 18.59l7.72-7.72 1.47 1.35L5.41 20z\"/>\n",
              "  </svg>\n",
              "      </button>\n",
              "      \n",
              "  <style>\n",
              "    .colab-df-container {\n",
              "      display:flex;\n",
              "      flex-wrap:wrap;\n",
              "      gap: 12px;\n",
              "    }\n",
              "\n",
              "    .colab-df-convert {\n",
              "      background-color: #E8F0FE;\n",
              "      border: none;\n",
              "      border-radius: 50%;\n",
              "      cursor: pointer;\n",
              "      display: none;\n",
              "      fill: #1967D2;\n",
              "      height: 32px;\n",
              "      padding: 0 0 0 0;\n",
              "      width: 32px;\n",
              "    }\n",
              "\n",
              "    .colab-df-convert:hover {\n",
              "      background-color: #E2EBFA;\n",
              "      box-shadow: 0px 1px 2px rgba(60, 64, 67, 0.3), 0px 1px 3px 1px rgba(60, 64, 67, 0.15);\n",
              "      fill: #174EA6;\n",
              "    }\n",
              "\n",
              "    [theme=dark] .colab-df-convert {\n",
              "      background-color: #3B4455;\n",
              "      fill: #D2E3FC;\n",
              "    }\n",
              "\n",
              "    [theme=dark] .colab-df-convert:hover {\n",
              "      background-color: #434B5C;\n",
              "      box-shadow: 0px 1px 3px 1px rgba(0, 0, 0, 0.15);\n",
              "      filter: drop-shadow(0px 1px 2px rgba(0, 0, 0, 0.3));\n",
              "      fill: #FFFFFF;\n",
              "    }\n",
              "  </style>\n",
              "\n",
              "      <script>\n",
              "        const buttonEl =\n",
              "          document.querySelector('#df-c3a34669-1909-4a4d-941c-5cc8075f446a button.colab-df-convert');\n",
              "        buttonEl.style.display =\n",
              "          google.colab.kernel.accessAllowed ? 'block' : 'none';\n",
              "\n",
              "        async function convertToInteractive(key) {\n",
              "          const element = document.querySelector('#df-c3a34669-1909-4a4d-941c-5cc8075f446a');\n",
              "          const dataTable =\n",
              "            await google.colab.kernel.invokeFunction('convertToInteractive',\n",
              "                                                     [key], {});\n",
              "          if (!dataTable) return;\n",
              "\n",
              "          const docLinkHtml = 'Like what you see? Visit the ' +\n",
              "            '<a target=\"_blank\" href=https://colab.research.google.com/notebooks/data_table.ipynb>data table notebook</a>'\n",
              "            + ' to learn more about interactive tables.';\n",
              "          element.innerHTML = '';\n",
              "          dataTable['output_type'] = 'display_data';\n",
              "          await google.colab.output.renderOutput(dataTable, element);\n",
              "          const docLink = document.createElement('div');\n",
              "          docLink.innerHTML = docLinkHtml;\n",
              "          element.appendChild(docLink);\n",
              "        }\n",
              "      </script>\n",
              "    </div>\n",
              "  </div>\n",
              "  "
            ]
          },
          "metadata": {},
          "execution_count": 11
        }
      ]
    }
  ]
}