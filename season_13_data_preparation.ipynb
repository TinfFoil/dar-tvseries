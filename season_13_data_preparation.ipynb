{
  "nbformat": 4,
  "nbformat_minor": 0,
  "metadata": {
    "colab": {
      "name": "Season_13_data_preparation.ipynb",
      "provenance": []
    },
    "kernelspec": {
      "name": "python3",
      "display_name": "Python 3"
    },
    "language_info": {
      "name": "python"
    }
  },
  "cells": [
    {
      "cell_type": "markdown",
      "source": [
        "# **Season 13 alignment**\n",
        "\n",
        "**Input:** season 13 .xlsx file (coding), season 13 .srt files (subtitles)\n",
        "\n",
        "**Output:** season 13 subtitles aligned with the coding file"
      ],
      "metadata": {
        "id": "g4wWDlJk0-9V"
      }
    },
    {
      "cell_type": "markdown",
      "source": [
        "# Splitting .xlsx file by episode"
      ],
      "metadata": {
        "id": "1JWC1EiS1vze"
      }
    },
    {
      "cell_type": "code",
      "execution_count": 1,
      "metadata": {
        "id": "TwEQjR0Z08zM"
      },
      "outputs": [],
      "source": [
        "import pandas as pd\n",
        "import numpy as np\n",
        "import glob\n",
        "import os\n",
        "import re"
      ]
    },
    {
      "cell_type": "code",
      "source": [
        "pd.options.mode.chained_assignment = None "
      ],
      "metadata": {
        "id": "Ay2wdZeKKkym"
      },
      "execution_count": 2,
      "outputs": []
    },
    {
      "cell_type": "code",
      "source": [
        "# Opening season 13 .xlsx file \n",
        "\n",
        "excelpath = input('Enter .xlsx file path: ')\n",
        "df_excel = pd.read_excel(excelpath)\n",
        "df_excel = df_excel.drop(['Season', 'N_segmento', 'Durata', 'PP_rel', 'SP_rel', 'MC_rel', 'Note'], axis=1)"
      ],
      "metadata": {
        "colab": {
          "base_uri": "https://localhost:8080/"
        },
        "id": "x50bsF4915lt",
        "outputId": "66da7b43-6c31-4405-9760-a26e719fc7f9"
      },
      "execution_count": 3,
      "outputs": [
        {
          "name": "stdout",
          "output_type": "stream",
          "text": [
            "Enter .xlsx file path: /content/coding_season_13.xlsx\n"
          ]
        }
      ]
    },
    {
      "cell_type": "code",
      "source": [
        "# Normalizing timestamps\n",
        "\n",
        "df_excel['Inizio'] = df_excel['Inizio'].astype(str)\n",
        "df_excel['Inizio'] = pd.to_datetime(df_excel['Inizio'], errors = 'coerce')\n",
        "df_excel['Inizio'] = df_excel['Inizio'].dt.round('1s')\n",
        "df_excel['Inizio'] = df_excel['Inizio'].dt.time"
      ],
      "metadata": {
        "id": "zcapaTjDHoBo"
      },
      "execution_count": 5,
      "outputs": []
    },
    {
      "cell_type": "code",
      "source": [
        "df_excel['Fine'] = df_excel['Fine'].astype(str)\n",
        "df_excel['Fine'] = df_excel['Fine'].apply(lambda x : '00:09:20' if x=='000:09:20,487' else x) # Fixing a value in line 614\n",
        "df_excel['Fine'] = pd.to_datetime(df_excel['Fine'], errors = 'coerce')\n",
        "df_excel['Fine'] = df_excel['Fine'].dt.round('1s')\n",
        "df_excel['Fine'] = df_excel['Fine'].dt.time"
      ],
      "metadata": {
        "id": "dtss6Rm9Ik7l"
      },
      "execution_count": 6,
      "outputs": []
    },
    {
      "cell_type": "code",
      "source": [
        "# Cleaning up labels\n",
        "\n",
        "df_excel.PP.replace('NA ', np.nan, inplace=True)\n",
        "df_excel.SP.replace('NA ', np.nan, inplace=True)\n",
        "df_excel.MC.replace('NA ', np.nan, inplace=True)\n",
        "df_excel.MC.replace('SP10', np.nan, inplace=True) # Fixing a value in line 786"
      ],
      "metadata": {
        "id": "CW7-kkqyLT9r"
      },
      "execution_count": 7,
      "outputs": []
    },
    {
      "cell_type": "code",
      "source": [
        "# Replacing NaNs with 0s\n",
        "\n",
        "df_excel = df_excel.fillna(0)"
      ],
      "metadata": {
        "id": "-rlUzJYjLAlv"
      },
      "execution_count": 8,
      "outputs": []
    },
    {
      "cell_type": "code",
      "source": [
        "df_excel"
      ],
      "metadata": {
        "colab": {
          "base_uri": "https://localhost:8080/",
          "height": 424
        },
        "id": "SbAjlUKHHoEG",
        "outputId": "3abb1e24-a3c0-4da5-da40-5f55e12127e9"
      },
      "execution_count": 9,
      "outputs": [
        {
          "output_type": "execute_result",
          "data": {
            "text/plain": [
              "        Codice    Inizio      Fine   PP   SP   MC\n",
              "0     GAS13E01  00:00:00  00:00:44  0.0  0.0  0.0\n",
              "1     GAS13E01  00:00:44  00:00:49  0.0  0.0  0.0\n",
              "2     GAS13E01  00:00:49  00:02:18  0.0  6.0  0.0\n",
              "3     GAS13E01  00:02:18  00:02:36  2.0  2.0  2.0\n",
              "4     GAS13E01  00:02:36  00:03:18  0.0  6.0  0.0\n",
              "...        ...       ...       ...  ...  ...  ...\n",
              "1575  GAS13E24  00:41:23  00:41:43  0.0  0.0  0.0\n",
              "1576  GAS13E24  00:41:43  00:41:47  0.0  0.0  6.0\n",
              "1577  GAS13E24  00:41:47  00:41:59  0.0  0.0  0.0\n",
              "1578  GAS13E24  00:41:59  00:42:10  0.0  0.0  6.0\n",
              "1579  GAS13E24  00:42:10  00:42:18  0.0  0.0  0.0\n",
              "\n",
              "[1580 rows x 6 columns]"
            ],
            "text/html": [
              "\n",
              "  <div id=\"df-b587a3cf-1c81-4389-bdec-326ab479999d\">\n",
              "    <div class=\"colab-df-container\">\n",
              "      <div>\n",
              "<style scoped>\n",
              "    .dataframe tbody tr th:only-of-type {\n",
              "        vertical-align: middle;\n",
              "    }\n",
              "\n",
              "    .dataframe tbody tr th {\n",
              "        vertical-align: top;\n",
              "    }\n",
              "\n",
              "    .dataframe thead th {\n",
              "        text-align: right;\n",
              "    }\n",
              "</style>\n",
              "<table border=\"1\" class=\"dataframe\">\n",
              "  <thead>\n",
              "    <tr style=\"text-align: right;\">\n",
              "      <th></th>\n",
              "      <th>Codice</th>\n",
              "      <th>Inizio</th>\n",
              "      <th>Fine</th>\n",
              "      <th>PP</th>\n",
              "      <th>SP</th>\n",
              "      <th>MC</th>\n",
              "    </tr>\n",
              "  </thead>\n",
              "  <tbody>\n",
              "    <tr>\n",
              "      <th>0</th>\n",
              "      <td>GAS13E01</td>\n",
              "      <td>00:00:00</td>\n",
              "      <td>00:00:44</td>\n",
              "      <td>0.0</td>\n",
              "      <td>0.0</td>\n",
              "      <td>0.0</td>\n",
              "    </tr>\n",
              "    <tr>\n",
              "      <th>1</th>\n",
              "      <td>GAS13E01</td>\n",
              "      <td>00:00:44</td>\n",
              "      <td>00:00:49</td>\n",
              "      <td>0.0</td>\n",
              "      <td>0.0</td>\n",
              "      <td>0.0</td>\n",
              "    </tr>\n",
              "    <tr>\n",
              "      <th>2</th>\n",
              "      <td>GAS13E01</td>\n",
              "      <td>00:00:49</td>\n",
              "      <td>00:02:18</td>\n",
              "      <td>0.0</td>\n",
              "      <td>6.0</td>\n",
              "      <td>0.0</td>\n",
              "    </tr>\n",
              "    <tr>\n",
              "      <th>3</th>\n",
              "      <td>GAS13E01</td>\n",
              "      <td>00:02:18</td>\n",
              "      <td>00:02:36</td>\n",
              "      <td>2.0</td>\n",
              "      <td>2.0</td>\n",
              "      <td>2.0</td>\n",
              "    </tr>\n",
              "    <tr>\n",
              "      <th>4</th>\n",
              "      <td>GAS13E01</td>\n",
              "      <td>00:02:36</td>\n",
              "      <td>00:03:18</td>\n",
              "      <td>0.0</td>\n",
              "      <td>6.0</td>\n",
              "      <td>0.0</td>\n",
              "    </tr>\n",
              "    <tr>\n",
              "      <th>...</th>\n",
              "      <td>...</td>\n",
              "      <td>...</td>\n",
              "      <td>...</td>\n",
              "      <td>...</td>\n",
              "      <td>...</td>\n",
              "      <td>...</td>\n",
              "    </tr>\n",
              "    <tr>\n",
              "      <th>1575</th>\n",
              "      <td>GAS13E24</td>\n",
              "      <td>00:41:23</td>\n",
              "      <td>00:41:43</td>\n",
              "      <td>0.0</td>\n",
              "      <td>0.0</td>\n",
              "      <td>0.0</td>\n",
              "    </tr>\n",
              "    <tr>\n",
              "      <th>1576</th>\n",
              "      <td>GAS13E24</td>\n",
              "      <td>00:41:43</td>\n",
              "      <td>00:41:47</td>\n",
              "      <td>0.0</td>\n",
              "      <td>0.0</td>\n",
              "      <td>6.0</td>\n",
              "    </tr>\n",
              "    <tr>\n",
              "      <th>1577</th>\n",
              "      <td>GAS13E24</td>\n",
              "      <td>00:41:47</td>\n",
              "      <td>00:41:59</td>\n",
              "      <td>0.0</td>\n",
              "      <td>0.0</td>\n",
              "      <td>0.0</td>\n",
              "    </tr>\n",
              "    <tr>\n",
              "      <th>1578</th>\n",
              "      <td>GAS13E24</td>\n",
              "      <td>00:41:59</td>\n",
              "      <td>00:42:10</td>\n",
              "      <td>0.0</td>\n",
              "      <td>0.0</td>\n",
              "      <td>6.0</td>\n",
              "    </tr>\n",
              "    <tr>\n",
              "      <th>1579</th>\n",
              "      <td>GAS13E24</td>\n",
              "      <td>00:42:10</td>\n",
              "      <td>00:42:18</td>\n",
              "      <td>0.0</td>\n",
              "      <td>0.0</td>\n",
              "      <td>0.0</td>\n",
              "    </tr>\n",
              "  </tbody>\n",
              "</table>\n",
              "<p>1580 rows × 6 columns</p>\n",
              "</div>\n",
              "      <button class=\"colab-df-convert\" onclick=\"convertToInteractive('df-b587a3cf-1c81-4389-bdec-326ab479999d')\"\n",
              "              title=\"Convert this dataframe to an interactive table.\"\n",
              "              style=\"display:none;\">\n",
              "        \n",
              "  <svg xmlns=\"http://www.w3.org/2000/svg\" height=\"24px\"viewBox=\"0 0 24 24\"\n",
              "       width=\"24px\">\n",
              "    <path d=\"M0 0h24v24H0V0z\" fill=\"none\"/>\n",
              "    <path d=\"M18.56 5.44l.94 2.06.94-2.06 2.06-.94-2.06-.94-.94-2.06-.94 2.06-2.06.94zm-11 1L8.5 8.5l.94-2.06 2.06-.94-2.06-.94L8.5 2.5l-.94 2.06-2.06.94zm10 10l.94 2.06.94-2.06 2.06-.94-2.06-.94-.94-2.06-.94 2.06-2.06.94z\"/><path d=\"M17.41 7.96l-1.37-1.37c-.4-.4-.92-.59-1.43-.59-.52 0-1.04.2-1.43.59L10.3 9.45l-7.72 7.72c-.78.78-.78 2.05 0 2.83L4 21.41c.39.39.9.59 1.41.59.51 0 1.02-.2 1.41-.59l7.78-7.78 2.81-2.81c.8-.78.8-2.07 0-2.86zM5.41 20L4 18.59l7.72-7.72 1.47 1.35L5.41 20z\"/>\n",
              "  </svg>\n",
              "      </button>\n",
              "      \n",
              "  <style>\n",
              "    .colab-df-container {\n",
              "      display:flex;\n",
              "      flex-wrap:wrap;\n",
              "      gap: 12px;\n",
              "    }\n",
              "\n",
              "    .colab-df-convert {\n",
              "      background-color: #E8F0FE;\n",
              "      border: none;\n",
              "      border-radius: 50%;\n",
              "      cursor: pointer;\n",
              "      display: none;\n",
              "      fill: #1967D2;\n",
              "      height: 32px;\n",
              "      padding: 0 0 0 0;\n",
              "      width: 32px;\n",
              "    }\n",
              "\n",
              "    .colab-df-convert:hover {\n",
              "      background-color: #E2EBFA;\n",
              "      box-shadow: 0px 1px 2px rgba(60, 64, 67, 0.3), 0px 1px 3px 1px rgba(60, 64, 67, 0.15);\n",
              "      fill: #174EA6;\n",
              "    }\n",
              "\n",
              "    [theme=dark] .colab-df-convert {\n",
              "      background-color: #3B4455;\n",
              "      fill: #D2E3FC;\n",
              "    }\n",
              "\n",
              "    [theme=dark] .colab-df-convert:hover {\n",
              "      background-color: #434B5C;\n",
              "      box-shadow: 0px 1px 3px 1px rgba(0, 0, 0, 0.15);\n",
              "      filter: drop-shadow(0px 1px 2px rgba(0, 0, 0, 0.3));\n",
              "      fill: #FFFFFF;\n",
              "    }\n",
              "  </style>\n",
              "\n",
              "      <script>\n",
              "        const buttonEl =\n",
              "          document.querySelector('#df-b587a3cf-1c81-4389-bdec-326ab479999d button.colab-df-convert');\n",
              "        buttonEl.style.display =\n",
              "          google.colab.kernel.accessAllowed ? 'block' : 'none';\n",
              "\n",
              "        async function convertToInteractive(key) {\n",
              "          const element = document.querySelector('#df-b587a3cf-1c81-4389-bdec-326ab479999d');\n",
              "          const dataTable =\n",
              "            await google.colab.kernel.invokeFunction('convertToInteractive',\n",
              "                                                     [key], {});\n",
              "          if (!dataTable) return;\n",
              "\n",
              "          const docLinkHtml = 'Like what you see? Visit the ' +\n",
              "            '<a target=\"_blank\" href=https://colab.research.google.com/notebooks/data_table.ipynb>data table notebook</a>'\n",
              "            + ' to learn more about interactive tables.';\n",
              "          element.innerHTML = '';\n",
              "          dataTable['output_type'] = 'display_data';\n",
              "          await google.colab.output.renderOutput(dataTable, element);\n",
              "          const docLink = document.createElement('div');\n",
              "          docLink.innerHTML = docLinkHtml;\n",
              "          element.appendChild(docLink);\n",
              "        }\n",
              "      </script>\n",
              "    </div>\n",
              "  </div>\n",
              "  "
            ]
          },
          "metadata": {},
          "execution_count": 9
        }
      ]
    },
    {
      "cell_type": "code",
      "source": [
        "# Finding where each episode starts and ends\n",
        "\n",
        "episode_start = []\n",
        "episode_end = []\n",
        "\n",
        "episode_start.append(0)\n",
        "\n",
        "for idx, val in enumerate(df_excel.Codice):\n",
        "\n",
        "    try:\n",
        "\n",
        "      if df_excel.Codice[idx] != df_excel.Codice[idx+1]:\n",
        "        episode_end.append(idx)\n",
        "        episode_start.append(idx+1)\n",
        "    \n",
        "    except Exception:\n",
        "      \n",
        "      episode_end.append(len(df_excel.Codice))"
      ],
      "metadata": {
        "id": "fJ1v6ti518gv"
      },
      "execution_count": 10,
      "outputs": []
    },
    {
      "cell_type": "code",
      "source": [
        "# Boundaries of each episode\n",
        "\n",
        "print(episode_start)\n",
        "print(episode_end)"
      ],
      "metadata": {
        "colab": {
          "base_uri": "https://localhost:8080/"
        },
        "id": "flyqi52x1-5i",
        "outputId": "aebcee0a-7097-4ffd-a967-950c278568cf"
      },
      "execution_count": 11,
      "outputs": [
        {
          "output_type": "stream",
          "name": "stdout",
          "text": [
            "[0, 47, 112, 162, 221, 278, 331, 387, 443, 497, 542, 601, 654, 714, 818, 893, 963, 1034, 1098, 1171, 1261, 1324, 1392, 1474]\n",
            "[46, 111, 161, 220, 277, 330, 386, 442, 496, 541, 600, 653, 713, 817, 892, 962, 1033, 1097, 1170, 1260, 1323, 1391, 1473, 1580]\n"
          ]
        }
      ]
    },
    {
      "cell_type": "code",
      "source": [
        "# Storing each episode as a separate df\n",
        "\n",
        "df_episodes_list = []\n",
        "\n",
        "for ep_start, ep_end in zip(episode_start, episode_end):\n",
        "\n",
        "  df_episode = df_excel.loc[ep_start:ep_end]\n",
        "  df_episodes_list.append(df_episode)\n",
        "\n",
        "print('Total episodes: ' + str(len(df_episodes_list)))"
      ],
      "metadata": {
        "colab": {
          "base_uri": "https://localhost:8080/"
        },
        "id": "u_MXlfd82Y9p",
        "outputId": "ac79bff6-2cd1-45a7-f3c3-30e3bc92bab7"
      },
      "execution_count": 12,
      "outputs": [
        {
          "output_type": "stream",
          "name": "stdout",
          "text": [
            "Total episodes: 24\n"
          ]
        }
      ]
    },
    {
      "cell_type": "code",
      "source": [
        "# Exporting the dfs as .xlsx files\n",
        "\n",
        "folderpath = \"/content/coding_season_13\" \n",
        "os.mkdir(folderpath)\n",
        "excel = 'xlsx'  \n",
        "\n",
        "for i, df in enumerate(df_episodes_list):\n",
        "    filename = \"{}.{}\".format(i+1, excel)\n",
        "    filepath = os.path.join(folderpath, filename)\n",
        "    df.to_excel(filepath)"
      ],
      "metadata": {
        "id": "LcQ0b9Rj24ty"
      },
      "execution_count": 13,
      "outputs": []
    },
    {
      "cell_type": "markdown",
      "source": [
        "# Defining the functions"
      ],
      "metadata": {
        "id": "GabFkEvAYRZN"
      }
    },
    {
      "cell_type": "code",
      "source": [
        "def average_time(average_times, start_times_datetime, end_times_datetime):\n",
        "\n",
        "  for s, e in zip(start_times_datetime, end_times_datetime):\n",
        "    ts1 = s\n",
        "    ts2 = e\n",
        "    average_time = ts1+(ts2-ts1)/2\n",
        "    average_times.append(average_time)"
      ],
      "metadata": {
        "id": "sinVnGnUjIUi"
      },
      "execution_count": 14,
      "outputs": []
    },
    {
      "cell_type": "code",
      "source": [
        "def align_subs(df_subs, inizio, fine, pp, sp, mc, aligned_subs):\n",
        "\n",
        "  for start, end, pp, sp, mc in zip(inizio, fine, pp, sp, mc):\n",
        "    \n",
        "    mask = (df_subs['Average'] > start) & (df_subs['Average'] <= end)\n",
        "    mask_df = df_subs.loc[mask]\n",
        "\n",
        "    mask_df = mask_df.drop(['Average'], axis=1)\n",
        "    mask_df['PP'] = pp\n",
        "    mask_df = mask_df.groupby(\"PP\")\n",
        "    mask_df = mask_df[\"Subtitle\"].agg(lambda column: \"\".join(column))\n",
        "    mask_df = mask_df.reset_index(name=\"Subtitle\")\n",
        "    mask_df['SP'] = sp\n",
        "    mask_df['MC'] = mc\n",
        "    #mask_df['Start'] = start   # To add start/end timestamps as well\n",
        "    #mask_df['End'] = end\n",
        "    mask_df = mask_df[['Start', 'End', 'Subtitle', 'PP', 'SP', 'MC']]\n",
        "    aligned_subs.append(mask_df)"
      ],
      "metadata": {
        "id": "pjgqD0uD3mrq"
      },
      "execution_count": 30,
      "outputs": []
    },
    {
      "cell_type": "code",
      "source": [
        "aligned_episodes = []\n",
        "\n",
        "def process_files(xlsx_file, srt_file, aligned_episodes):\n",
        "\n",
        "  df_excel = pd.read_excel(xlsx_file)\n",
        "  df_excel = df_excel.reset_index(drop=True)\n",
        "  df_excel = df_excel.drop('Unnamed: 0', axis=1)\n",
        "  df_excel['Inizio'] =  pd.to_datetime(df_excel['Inizio']).dt.time\n",
        "  df_excel['Fine'] = pd.to_datetime(df_excel['Fine']).dt.time\n",
        "\n",
        "\n",
        "  with open(srt_file, 'r') as f:\n",
        "    subs = f.read().splitlines()\n",
        "\n",
        "    # Parsing .srt file\n",
        "\n",
        "    re_pattern = r'[0-9]{2}:[0-9]{2}:[0-9]{2},[0-9]{3} -->'\n",
        "    regex = re.compile(re_pattern)\n",
        "\n",
        "    start_times = list(filter(regex.search, subs))\n",
        "    start_times = [time.split(' ')[0] for time in start_times]\n",
        "    start_times_datetime1 = pd.to_datetime(start_times, format=\"%H:%M:%S,%f\")\n",
        "    start_times_datetime2 = pd.Series(start_times_datetime1, name='Start').dt.time\n",
        "\n",
        "    end_times = list(filter(regex.search,subs))\n",
        "    end_times = [time.split(' ')[2] for time in end_times]\n",
        "    end_times_datetime1 = pd.to_datetime(end_times, format=\"%H:%M:%S,%f\")\n",
        "    end_times_datetime2 = pd.Series(end_times_datetime1, name='End').dt.time\n",
        "\n",
        "    subtitles = [[]]\n",
        "\n",
        "    for sub in subs:\n",
        "        if re.match(re_pattern, sub):\n",
        "          subtitles[-1].pop()\n",
        "          subtitles.append([])\n",
        "        else:\n",
        "          subtitles[-1].append(sub)\n",
        "\n",
        "    subtitles = subtitles[1:]\n",
        "    subtitles = [' '.join(x) for x in subtitles]\n",
        "    subtitles = pd.Series(subtitles, name='Subtitle')\n",
        "\n",
        "    # Averaging timespans\n",
        "\n",
        "    average_times = []\n",
        "    average_time(average_times, start_times_datetime1, end_times_datetime1)\n",
        "    average_times = pd.Series(average_times, name='Average').dt.time\n",
        "\n",
        "    # Creating .srt DataFrame\n",
        "\n",
        "    df_subs = pd.concat([average_times, subtitles], axis=1)\n",
        "    df_subs = df_subs.reset_index(drop=True)\n",
        "\n",
        "    # Matching subtitles with segments\n",
        "\n",
        "    aligned_subs = []\n",
        "    align_subs(df_subs, df_excel.Inizio, df_excel.Fine, df_excel.PP, df_excel.SP, df_excel.MC, aligned_subs)\n",
        "\n",
        "    # Appending aligned episode to episode list\n",
        "\n",
        "    aligned_file = pd.concat(aligned_subs)\n",
        "    aligned_file.reset_index(drop=True)\n",
        "    aligned_episodes.append(aligned_file)\n"
      ],
      "metadata": {
        "id": "buWguAa7hgUe"
      },
      "execution_count": 31,
      "outputs": []
    },
    {
      "cell_type": "markdown",
      "source": [
        "# Preparing files"
      ],
      "metadata": {
        "id": "8-C1y8Zs4ibr"
      }
    },
    {
      "cell_type": "code",
      "source": [
        "!unzip /content/subtitles_season_13.zip"
      ],
      "metadata": {
        "id": "FgTS-EDj4j8d",
        "colab": {
          "base_uri": "https://localhost:8080/"
        },
        "outputId": "431b0546-c44b-4491-fedf-eca04b8763df"
      },
      "execution_count": 17,
      "outputs": [
        {
          "output_type": "stream",
          "name": "stdout",
          "text": [
            "Archive:  /content/subtitles_season_13.zip\n",
            "   creating: season_13/\n",
            "  inflating: season_13/13x01.srt     \n",
            "  inflating: season_13/13x02.srt     \n",
            "  inflating: season_13/13x03.srt     \n",
            "  inflating: season_13/13x04.srt     \n",
            "  inflating: season_13/13x05.srt     \n",
            "  inflating: season_13/13x06.srt     \n",
            "  inflating: season_13/13x07.srt     \n",
            "  inflating: season_13/13x08.srt     \n",
            "  inflating: season_13/13x09.srt     \n",
            "  inflating: season_13/13x10.srt     \n",
            "  inflating: season_13/13x11.srt     \n",
            "  inflating: season_13/13x12.srt     \n",
            "  inflating: season_13/13x13.srt     \n",
            "  inflating: season_13/13x14.srt     \n",
            "  inflating: season_13/13x15.srt     \n",
            "  inflating: season_13/13x16.srt     \n",
            "  inflating: season_13/13x17.srt     \n",
            "  inflating: season_13/13x18.srt     \n",
            "  inflating: season_13/13x19.srt     \n",
            "  inflating: season_13/13x20.srt     \n",
            "  inflating: season_13/13x21.srt     \n",
            "  inflating: season_13/13x22.srt     \n",
            "  inflating: season_13/13x23.srt     \n",
            "  inflating: season_13/13x24.srt     \n"
          ]
        }
      ]
    },
    {
      "cell_type": "code",
      "source": [
        "# Subtitle paths \n",
        "\n",
        "srt_paths = []\n",
        "\n",
        "os.rename('/content/season_13','/content/subtitles_season_13')\n",
        "\n",
        "for filename in sorted(glob.glob(os.path.join('/content/subtitles_season_13', '*.srt'))):\n",
        "  srt_paths.append(filename)"
      ],
      "metadata": {
        "id": "d-G_pCRq_Y1H"
      },
      "execution_count": 18,
      "outputs": []
    },
    {
      "cell_type": "code",
      "source": [
        "# Excel paths\n",
        "\n",
        "xlsx_paths = []\n",
        "\n",
        "sort_dir = sorted(os.listdir('/content/coding_season_13/'), key=lambda x: int(x.replace(\".xlsx\", \"\")))\n",
        "\n",
        "for filename in sort_dir:\n",
        "  dir_path = '/content/coding_season_13/' + filename\n",
        "  xlsx_paths.append(dir_path)"
      ],
      "metadata": {
        "id": "Du89RNED9_Pi"
      },
      "execution_count": 19,
      "outputs": []
    },
    {
      "cell_type": "markdown",
      "source": [
        "# Aligning the episodes"
      ],
      "metadata": {
        "id": "dnnAMqWjNU_R"
      }
    },
    {
      "cell_type": "code",
      "source": [
        "for xlsx, srt in zip(xlsx_paths, srt_paths):\n",
        "  process_files(xlsx, srt, aligned_episodes)"
      ],
      "metadata": {
        "id": "YA2IuijBMn1L"
      },
      "execution_count": 32,
      "outputs": []
    },
    {
      "cell_type": "code",
      "source": [
        "season_df = pd.concat(aligned_episodes)\n",
        "season_df = season_df.reset_index(drop=True)\n",
        "season_df"
      ],
      "metadata": {
        "id": "d-iqfspWM-yh",
        "colab": {
          "base_uri": "https://localhost:8080/",
          "height": 1712
        },
        "outputId": "c20a1f0c-c596-496e-dc04-3c1f2cddeee2"
      },
      "execution_count": 33,
      "outputs": [
        {
          "output_type": "execute_result",
          "data": {
            "text/plain": [
              "         Start       End                                           Subtitle  \\\n",
              "0     00:00:00  00:00:44  <i>Previously on \"Grey's Anatomy\"...</i> I wan...   \n",
              "1     00:00:44  00:00:49                                                 ♪    \n",
              "2     00:00:49  00:02:18  ♪ I ain't got no problem ♪ ♪ That's for real ♪...   \n",
              "3     00:02:18  00:02:36  [Siren wails] Isaac: What do we got? We got a ...   \n",
              "4     00:02:36  00:03:18  Two champagnes. You got it. I thought you were...   \n",
              "...        ...       ...                                                ...   \n",
              "1466  00:40:58  00:41:23  [Engine starts] <i>Nobody wakes up thinking, \"...   \n",
              "1467  00:41:23  00:41:43  <i>Sometimes, we wake up, we face our fears......   \n",
              "1468  00:41:43  00:41:47               <i>We take them by the hand.</i> ♪♪    \n",
              "1469  00:41:59  00:42:10  ♪ So far away ♪ <i>- And we stand there, waiti...   \n",
              "1470  00:42:10  00:42:18  ♪ But you don't see me standing here ♪ Synced ...   \n",
              "\n",
              "      PP  SP  MC  \n",
              "0      0   0   0  \n",
              "1      0   0   0  \n",
              "2      0   6   0  \n",
              "3      2   2   2  \n",
              "4      0   6   0  \n",
              "...   ..  ..  ..  \n",
              "1466   0   0   6  \n",
              "1467   0   0   0  \n",
              "1468   0   0   6  \n",
              "1469   0   0   6  \n",
              "1470   0   0   0  \n",
              "\n",
              "[1471 rows x 6 columns]"
            ],
            "text/html": [
              "\n",
              "  <div id=\"df-1da6ca5a-e9bb-40d7-b47d-42d795b0715e\">\n",
              "    <div class=\"colab-df-container\">\n",
              "      <div>\n",
              "<style scoped>\n",
              "    .dataframe tbody tr th:only-of-type {\n",
              "        vertical-align: middle;\n",
              "    }\n",
              "\n",
              "    .dataframe tbody tr th {\n",
              "        vertical-align: top;\n",
              "    }\n",
              "\n",
              "    .dataframe thead th {\n",
              "        text-align: right;\n",
              "    }\n",
              "</style>\n",
              "<table border=\"1\" class=\"dataframe\">\n",
              "  <thead>\n",
              "    <tr style=\"text-align: right;\">\n",
              "      <th></th>\n",
              "      <th>Start</th>\n",
              "      <th>End</th>\n",
              "      <th>Subtitle</th>\n",
              "      <th>PP</th>\n",
              "      <th>SP</th>\n",
              "      <th>MC</th>\n",
              "    </tr>\n",
              "  </thead>\n",
              "  <tbody>\n",
              "    <tr>\n",
              "      <th>0</th>\n",
              "      <td>00:00:00</td>\n",
              "      <td>00:00:44</td>\n",
              "      <td>&lt;i&gt;Previously on \"Grey's Anatomy\"...&lt;/i&gt; I wan...</td>\n",
              "      <td>0</td>\n",
              "      <td>0</td>\n",
              "      <td>0</td>\n",
              "    </tr>\n",
              "    <tr>\n",
              "      <th>1</th>\n",
              "      <td>00:00:44</td>\n",
              "      <td>00:00:49</td>\n",
              "      <td>♪</td>\n",
              "      <td>0</td>\n",
              "      <td>0</td>\n",
              "      <td>0</td>\n",
              "    </tr>\n",
              "    <tr>\n",
              "      <th>2</th>\n",
              "      <td>00:00:49</td>\n",
              "      <td>00:02:18</td>\n",
              "      <td>♪ I ain't got no problem ♪ ♪ That's for real ♪...</td>\n",
              "      <td>0</td>\n",
              "      <td>6</td>\n",
              "      <td>0</td>\n",
              "    </tr>\n",
              "    <tr>\n",
              "      <th>3</th>\n",
              "      <td>00:02:18</td>\n",
              "      <td>00:02:36</td>\n",
              "      <td>[Siren wails] Isaac: What do we got? We got a ...</td>\n",
              "      <td>2</td>\n",
              "      <td>2</td>\n",
              "      <td>2</td>\n",
              "    </tr>\n",
              "    <tr>\n",
              "      <th>4</th>\n",
              "      <td>00:02:36</td>\n",
              "      <td>00:03:18</td>\n",
              "      <td>Two champagnes. You got it. I thought you were...</td>\n",
              "      <td>0</td>\n",
              "      <td>6</td>\n",
              "      <td>0</td>\n",
              "    </tr>\n",
              "    <tr>\n",
              "      <th>...</th>\n",
              "      <td>...</td>\n",
              "      <td>...</td>\n",
              "      <td>...</td>\n",
              "      <td>...</td>\n",
              "      <td>...</td>\n",
              "      <td>...</td>\n",
              "    </tr>\n",
              "    <tr>\n",
              "      <th>1466</th>\n",
              "      <td>00:40:58</td>\n",
              "      <td>00:41:23</td>\n",
              "      <td>[Engine starts] &lt;i&gt;Nobody wakes up thinking, \"...</td>\n",
              "      <td>0</td>\n",
              "      <td>0</td>\n",
              "      <td>6</td>\n",
              "    </tr>\n",
              "    <tr>\n",
              "      <th>1467</th>\n",
              "      <td>00:41:23</td>\n",
              "      <td>00:41:43</td>\n",
              "      <td>&lt;i&gt;Sometimes, we wake up, we face our fears......</td>\n",
              "      <td>0</td>\n",
              "      <td>0</td>\n",
              "      <td>0</td>\n",
              "    </tr>\n",
              "    <tr>\n",
              "      <th>1468</th>\n",
              "      <td>00:41:43</td>\n",
              "      <td>00:41:47</td>\n",
              "      <td>&lt;i&gt;We take them by the hand.&lt;/i&gt; ♪♪</td>\n",
              "      <td>0</td>\n",
              "      <td>0</td>\n",
              "      <td>6</td>\n",
              "    </tr>\n",
              "    <tr>\n",
              "      <th>1469</th>\n",
              "      <td>00:41:59</td>\n",
              "      <td>00:42:10</td>\n",
              "      <td>♪ So far away ♪ &lt;i&gt;- And we stand there, waiti...</td>\n",
              "      <td>0</td>\n",
              "      <td>0</td>\n",
              "      <td>6</td>\n",
              "    </tr>\n",
              "    <tr>\n",
              "      <th>1470</th>\n",
              "      <td>00:42:10</td>\n",
              "      <td>00:42:18</td>\n",
              "      <td>♪ But you don't see me standing here ♪ Synced ...</td>\n",
              "      <td>0</td>\n",
              "      <td>0</td>\n",
              "      <td>0</td>\n",
              "    </tr>\n",
              "  </tbody>\n",
              "</table>\n",
              "<p>1471 rows × 6 columns</p>\n",
              "</div>\n",
              "      <button class=\"colab-df-convert\" onclick=\"convertToInteractive('df-1da6ca5a-e9bb-40d7-b47d-42d795b0715e')\"\n",
              "              title=\"Convert this dataframe to an interactive table.\"\n",
              "              style=\"display:none;\">\n",
              "        \n",
              "  <svg xmlns=\"http://www.w3.org/2000/svg\" height=\"24px\"viewBox=\"0 0 24 24\"\n",
              "       width=\"24px\">\n",
              "    <path d=\"M0 0h24v24H0V0z\" fill=\"none\"/>\n",
              "    <path d=\"M18.56 5.44l.94 2.06.94-2.06 2.06-.94-2.06-.94-.94-2.06-.94 2.06-2.06.94zm-11 1L8.5 8.5l.94-2.06 2.06-.94-2.06-.94L8.5 2.5l-.94 2.06-2.06.94zm10 10l.94 2.06.94-2.06 2.06-.94-2.06-.94-.94-2.06-.94 2.06-2.06.94z\"/><path d=\"M17.41 7.96l-1.37-1.37c-.4-.4-.92-.59-1.43-.59-.52 0-1.04.2-1.43.59L10.3 9.45l-7.72 7.72c-.78.78-.78 2.05 0 2.83L4 21.41c.39.39.9.59 1.41.59.51 0 1.02-.2 1.41-.59l7.78-7.78 2.81-2.81c.8-.78.8-2.07 0-2.86zM5.41 20L4 18.59l7.72-7.72 1.47 1.35L5.41 20z\"/>\n",
              "  </svg>\n",
              "      </button>\n",
              "      \n",
              "  <style>\n",
              "    .colab-df-container {\n",
              "      display:flex;\n",
              "      flex-wrap:wrap;\n",
              "      gap: 12px;\n",
              "    }\n",
              "\n",
              "    .colab-df-convert {\n",
              "      background-color: #E8F0FE;\n",
              "      border: none;\n",
              "      border-radius: 50%;\n",
              "      cursor: pointer;\n",
              "      display: none;\n",
              "      fill: #1967D2;\n",
              "      height: 32px;\n",
              "      padding: 0 0 0 0;\n",
              "      width: 32px;\n",
              "    }\n",
              "\n",
              "    .colab-df-convert:hover {\n",
              "      background-color: #E2EBFA;\n",
              "      box-shadow: 0px 1px 2px rgba(60, 64, 67, 0.3), 0px 1px 3px 1px rgba(60, 64, 67, 0.15);\n",
              "      fill: #174EA6;\n",
              "    }\n",
              "\n",
              "    [theme=dark] .colab-df-convert {\n",
              "      background-color: #3B4455;\n",
              "      fill: #D2E3FC;\n",
              "    }\n",
              "\n",
              "    [theme=dark] .colab-df-convert:hover {\n",
              "      background-color: #434B5C;\n",
              "      box-shadow: 0px 1px 3px 1px rgba(0, 0, 0, 0.15);\n",
              "      filter: drop-shadow(0px 1px 2px rgba(0, 0, 0, 0.3));\n",
              "      fill: #FFFFFF;\n",
              "    }\n",
              "  </style>\n",
              "\n",
              "      <script>\n",
              "        const buttonEl =\n",
              "          document.querySelector('#df-1da6ca5a-e9bb-40d7-b47d-42d795b0715e button.colab-df-convert');\n",
              "        buttonEl.style.display =\n",
              "          google.colab.kernel.accessAllowed ? 'block' : 'none';\n",
              "\n",
              "        async function convertToInteractive(key) {\n",
              "          const element = document.querySelector('#df-1da6ca5a-e9bb-40d7-b47d-42d795b0715e');\n",
              "          const dataTable =\n",
              "            await google.colab.kernel.invokeFunction('convertToInteractive',\n",
              "                                                     [key], {});\n",
              "          if (!dataTable) return;\n",
              "\n",
              "          const docLinkHtml = 'Like what you see? Visit the ' +\n",
              "            '<a target=\"_blank\" href=https://colab.research.google.com/notebooks/data_table.ipynb>data table notebook</a>'\n",
              "            + ' to learn more about interactive tables.';\n",
              "          element.innerHTML = '';\n",
              "          dataTable['output_type'] = 'display_data';\n",
              "          await google.colab.output.renderOutput(dataTable, element);\n",
              "          const docLink = document.createElement('div');\n",
              "          docLink.innerHTML = docLinkHtml;\n",
              "          element.appendChild(docLink);\n",
              "        }\n",
              "      </script>\n",
              "    </div>\n",
              "  </div>\n",
              "  "
            ]
          },
          "metadata": {},
          "execution_count": 33
        }
      ]
    },
    {
      "cell_type": "code",
      "source": [
        "season_df.to_excel('/content/season_13.xlsx')"
      ],
      "metadata": {
        "id": "DSgHWnsxrErw"
      },
      "execution_count": 34,
      "outputs": []
    }
  ]
}