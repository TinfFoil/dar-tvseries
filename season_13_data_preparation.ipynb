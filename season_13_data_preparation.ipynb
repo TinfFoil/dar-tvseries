{
  "nbformat": 4,
  "nbformat_minor": 0,
  "metadata": {
    "colab": {
      "provenance": []
    },
    "kernelspec": {
      "name": "python3",
      "display_name": "Python 3"
    },
    "language_info": {
      "name": "python"
    }
  },
  "cells": [
    {
      "cell_type": "markdown",
      "source": [
        "# Season_13_data_preparation.ipynb\n",
        "\n",
        "This is the second version of the software, which was created to support larger amounts of data. Here, the alignment was performed on all of the episodes from the thirteenth season of *Grey's Anatomy*. The input is the following:\n",
        "\n",
        " \n",
        "1.   An XLSX file containing the data from episode 13x01 to 13x24.\n",
        "2.   A ZIP file containing the subtitles of each episode.\n"
      ],
      "metadata": {
        "id": "g4wWDlJk0-9V"
      }
    },
    {
      "cell_type": "markdown",
      "source": [
        "# Libraries"
      ],
      "metadata": {
        "id": "d3IrGkgezUgN"
      }
    },
    {
      "cell_type": "markdown",
      "source": [
        "In addition to pandas and re, some additional libraries were used in order to extract and organize the files."
      ],
      "metadata": {
        "id": "C9P3z2lX0TGn"
      }
    },
    {
      "cell_type": "code",
      "execution_count": 17,
      "metadata": {
        "id": "TwEQjR0Z08zM"
      },
      "outputs": [],
      "source": [
        "import pandas as pd\n",
        "import numpy as np\n",
        "import tempfile\n",
        "import zipfile\n",
        "import shutil\n",
        "import glob\n",
        "import os\n",
        "import re"
      ]
    },
    {
      "cell_type": "code",
      "source": [
        "pd.options.mode.chained_assignment = None "
      ],
      "metadata": {
        "id": "-PhcxRcDJ-To"
      },
      "execution_count": 18,
      "outputs": []
    },
    {
      "cell_type": "markdown",
      "source": [
        "# Importing the files"
      ],
      "metadata": {
        "id": "01IWFsPi0HYx"
      }
    },
    {
      "cell_type": "code",
      "source": [
        "# Opening season 13 .xlsx file \n",
        "\n",
        "excel_path = input('Enter .xlsx file path: ')\n",
        "df_excel = pd.read_excel(excel_path)"
      ],
      "metadata": {
        "colab": {
          "base_uri": "https://localhost:8080/"
        },
        "id": "x50bsF4915lt",
        "outputId": "01e1aefd-c909-4379-ba1f-f9d97343d2ac"
      },
      "execution_count": 19,
      "outputs": [
        {
          "name": "stdout",
          "output_type": "stream",
          "text": [
            "Enter .xlsx file path: /content/coding_season_13.xlsx\n"
          ]
        }
      ]
    },
    {
      "cell_type": "code",
      "source": [
        "# Structure of the .xlsx file\n",
        "\n",
        "df_excel"
      ],
      "metadata": {
        "colab": {
          "base_uri": "https://localhost:8080/",
          "height": 557
        },
        "id": "OrpGI77PQztN",
        "outputId": "db6712bf-0c45-4104-c3ba-4d027046cd5b"
      },
      "execution_count": 20,
      "outputs": [
        {
          "output_type": "execute_result",
          "data": {
            "text/plain": [
              "     Season    Codice N_segmento           Inizio             Fine  \\\n",
              "0     GAS13  GAS13E01          1         00:00:00         00:00:44   \n",
              "1     GAS13  GAS13E01          2         00:00:44         00:00:49   \n",
              "2     GAS13  GAS13E01          3         00:00:49         00:02:18   \n",
              "3     GAS13  GAS13E01          4         00:02:18         00:02:36   \n",
              "4     GAS13  GAS13E01          5         00:02:36         00:03:18   \n",
              "...     ...       ...        ...              ...              ...   \n",
              "1575  GAS13  GAS13E24        NaN  00:41:23.130000  00:41:42.590000   \n",
              "1576  GAS13  GAS13E24        NaN  00:41:42.590000  00:41:47.410000   \n",
              "1577  GAS13  GAS13E24        NaN  00:41:47.410000  00:41:59.060000   \n",
              "1578  GAS13  GAS13E24        NaN  00:41:59.060000  00:42:09.570000   \n",
              "1579  GAS13  GAS13E24        NaN  00:42:09.570000  00:42:17.891000   \n",
              "\n",
              "               Durata   PP PP_rel   SP           SP_rel   MC MC_rel  \\\n",
              "0            00:00:44  NaN    NaN  NaN              NaN  NaN    NaN   \n",
              "1            00:00:05  NaN    NaN  NaN              NaN  NaN    NaN   \n",
              "2            00:01:29    0    NaN    6  SP3,SP4,SP5,SP6    0    NaN   \n",
              "3            00:00:18    2    PP1    2             SP3     2    MC1   \n",
              "4            00:00:42    0    NaN    6              SP7    0    NaN   \n",
              "...               ...  ...    ...  ...              ...  ...    ...   \n",
              "1575  00:00:19.460000  NaN    NaN  NaN              NaN  NaN    NaN   \n",
              "1576  00:00:04.820000    0    NaN    0              NaN    6    SP5   \n",
              "1577  00:00:11.650000  NaN    NaN  NaN              NaN  NaN    NaN   \n",
              "1578  00:00:10.510000    0    NaN    0              NaN    6   SP10   \n",
              "1579  00:00:08.321000  NaN    NaN  NaN              NaN  NaN    NaN   \n",
              "\n",
              "                                         Note  \n",
              "0                                  PREVIOUSLY  \n",
              "1                   Contestualizzazione città  \n",
              "2     Pg+monologo, Inizio montaggio alternato  \n",
              "3                                         NaN  \n",
              "4                    Fine montaggio alternato  \n",
              "...                                       ...  \n",
              "1575                      Contestualizzazione  \n",
              "1576                                      NaN  \n",
              "1577                                      NaN  \n",
              "1578                                      NaN  \n",
              "1579                        Sigla di chiusura  \n",
              "\n",
              "[1580 rows x 13 columns]"
            ],
            "text/html": [
              "\n",
              "  <div id=\"df-44384073-b95c-4f01-8399-0b90fa01d0e8\">\n",
              "    <div class=\"colab-df-container\">\n",
              "      <div>\n",
              "<style scoped>\n",
              "    .dataframe tbody tr th:only-of-type {\n",
              "        vertical-align: middle;\n",
              "    }\n",
              "\n",
              "    .dataframe tbody tr th {\n",
              "        vertical-align: top;\n",
              "    }\n",
              "\n",
              "    .dataframe thead th {\n",
              "        text-align: right;\n",
              "    }\n",
              "</style>\n",
              "<table border=\"1\" class=\"dataframe\">\n",
              "  <thead>\n",
              "    <tr style=\"text-align: right;\">\n",
              "      <th></th>\n",
              "      <th>Season</th>\n",
              "      <th>Codice</th>\n",
              "      <th>N_segmento</th>\n",
              "      <th>Inizio</th>\n",
              "      <th>Fine</th>\n",
              "      <th>Durata</th>\n",
              "      <th>PP</th>\n",
              "      <th>PP_rel</th>\n",
              "      <th>SP</th>\n",
              "      <th>SP_rel</th>\n",
              "      <th>MC</th>\n",
              "      <th>MC_rel</th>\n",
              "      <th>Note</th>\n",
              "    </tr>\n",
              "  </thead>\n",
              "  <tbody>\n",
              "    <tr>\n",
              "      <th>0</th>\n",
              "      <td>GAS13</td>\n",
              "      <td>GAS13E01</td>\n",
              "      <td>1</td>\n",
              "      <td>00:00:00</td>\n",
              "      <td>00:00:44</td>\n",
              "      <td>00:00:44</td>\n",
              "      <td>NaN</td>\n",
              "      <td>NaN</td>\n",
              "      <td>NaN</td>\n",
              "      <td>NaN</td>\n",
              "      <td>NaN</td>\n",
              "      <td>NaN</td>\n",
              "      <td>PREVIOUSLY</td>\n",
              "    </tr>\n",
              "    <tr>\n",
              "      <th>1</th>\n",
              "      <td>GAS13</td>\n",
              "      <td>GAS13E01</td>\n",
              "      <td>2</td>\n",
              "      <td>00:00:44</td>\n",
              "      <td>00:00:49</td>\n",
              "      <td>00:00:05</td>\n",
              "      <td>NaN</td>\n",
              "      <td>NaN</td>\n",
              "      <td>NaN</td>\n",
              "      <td>NaN</td>\n",
              "      <td>NaN</td>\n",
              "      <td>NaN</td>\n",
              "      <td>Contestualizzazione città</td>\n",
              "    </tr>\n",
              "    <tr>\n",
              "      <th>2</th>\n",
              "      <td>GAS13</td>\n",
              "      <td>GAS13E01</td>\n",
              "      <td>3</td>\n",
              "      <td>00:00:49</td>\n",
              "      <td>00:02:18</td>\n",
              "      <td>00:01:29</td>\n",
              "      <td>0</td>\n",
              "      <td>NaN</td>\n",
              "      <td>6</td>\n",
              "      <td>SP3,SP4,SP5,SP6</td>\n",
              "      <td>0</td>\n",
              "      <td>NaN</td>\n",
              "      <td>Pg+monologo, Inizio montaggio alternato</td>\n",
              "    </tr>\n",
              "    <tr>\n",
              "      <th>3</th>\n",
              "      <td>GAS13</td>\n",
              "      <td>GAS13E01</td>\n",
              "      <td>4</td>\n",
              "      <td>00:02:18</td>\n",
              "      <td>00:02:36</td>\n",
              "      <td>00:00:18</td>\n",
              "      <td>2</td>\n",
              "      <td>PP1</td>\n",
              "      <td>2</td>\n",
              "      <td>SP3</td>\n",
              "      <td>2</td>\n",
              "      <td>MC1</td>\n",
              "      <td>NaN</td>\n",
              "    </tr>\n",
              "    <tr>\n",
              "      <th>4</th>\n",
              "      <td>GAS13</td>\n",
              "      <td>GAS13E01</td>\n",
              "      <td>5</td>\n",
              "      <td>00:02:36</td>\n",
              "      <td>00:03:18</td>\n",
              "      <td>00:00:42</td>\n",
              "      <td>0</td>\n",
              "      <td>NaN</td>\n",
              "      <td>6</td>\n",
              "      <td>SP7</td>\n",
              "      <td>0</td>\n",
              "      <td>NaN</td>\n",
              "      <td>Fine montaggio alternato</td>\n",
              "    </tr>\n",
              "    <tr>\n",
              "      <th>...</th>\n",
              "      <td>...</td>\n",
              "      <td>...</td>\n",
              "      <td>...</td>\n",
              "      <td>...</td>\n",
              "      <td>...</td>\n",
              "      <td>...</td>\n",
              "      <td>...</td>\n",
              "      <td>...</td>\n",
              "      <td>...</td>\n",
              "      <td>...</td>\n",
              "      <td>...</td>\n",
              "      <td>...</td>\n",
              "      <td>...</td>\n",
              "    </tr>\n",
              "    <tr>\n",
              "      <th>1575</th>\n",
              "      <td>GAS13</td>\n",
              "      <td>GAS13E24</td>\n",
              "      <td>NaN</td>\n",
              "      <td>00:41:23.130000</td>\n",
              "      <td>00:41:42.590000</td>\n",
              "      <td>00:00:19.460000</td>\n",
              "      <td>NaN</td>\n",
              "      <td>NaN</td>\n",
              "      <td>NaN</td>\n",
              "      <td>NaN</td>\n",
              "      <td>NaN</td>\n",
              "      <td>NaN</td>\n",
              "      <td>Contestualizzazione</td>\n",
              "    </tr>\n",
              "    <tr>\n",
              "      <th>1576</th>\n",
              "      <td>GAS13</td>\n",
              "      <td>GAS13E24</td>\n",
              "      <td>NaN</td>\n",
              "      <td>00:41:42.590000</td>\n",
              "      <td>00:41:47.410000</td>\n",
              "      <td>00:00:04.820000</td>\n",
              "      <td>0</td>\n",
              "      <td>NaN</td>\n",
              "      <td>0</td>\n",
              "      <td>NaN</td>\n",
              "      <td>6</td>\n",
              "      <td>SP5</td>\n",
              "      <td>NaN</td>\n",
              "    </tr>\n",
              "    <tr>\n",
              "      <th>1577</th>\n",
              "      <td>GAS13</td>\n",
              "      <td>GAS13E24</td>\n",
              "      <td>NaN</td>\n",
              "      <td>00:41:47.410000</td>\n",
              "      <td>00:41:59.060000</td>\n",
              "      <td>00:00:11.650000</td>\n",
              "      <td>NaN</td>\n",
              "      <td>NaN</td>\n",
              "      <td>NaN</td>\n",
              "      <td>NaN</td>\n",
              "      <td>NaN</td>\n",
              "      <td>NaN</td>\n",
              "      <td>NaN</td>\n",
              "    </tr>\n",
              "    <tr>\n",
              "      <th>1578</th>\n",
              "      <td>GAS13</td>\n",
              "      <td>GAS13E24</td>\n",
              "      <td>NaN</td>\n",
              "      <td>00:41:59.060000</td>\n",
              "      <td>00:42:09.570000</td>\n",
              "      <td>00:00:10.510000</td>\n",
              "      <td>0</td>\n",
              "      <td>NaN</td>\n",
              "      <td>0</td>\n",
              "      <td>NaN</td>\n",
              "      <td>6</td>\n",
              "      <td>SP10</td>\n",
              "      <td>NaN</td>\n",
              "    </tr>\n",
              "    <tr>\n",
              "      <th>1579</th>\n",
              "      <td>GAS13</td>\n",
              "      <td>GAS13E24</td>\n",
              "      <td>NaN</td>\n",
              "      <td>00:42:09.570000</td>\n",
              "      <td>00:42:17.891000</td>\n",
              "      <td>00:00:08.321000</td>\n",
              "      <td>NaN</td>\n",
              "      <td>NaN</td>\n",
              "      <td>NaN</td>\n",
              "      <td>NaN</td>\n",
              "      <td>NaN</td>\n",
              "      <td>NaN</td>\n",
              "      <td>Sigla di chiusura</td>\n",
              "    </tr>\n",
              "  </tbody>\n",
              "</table>\n",
              "<p>1580 rows × 13 columns</p>\n",
              "</div>\n",
              "      <button class=\"colab-df-convert\" onclick=\"convertToInteractive('df-44384073-b95c-4f01-8399-0b90fa01d0e8')\"\n",
              "              title=\"Convert this dataframe to an interactive table.\"\n",
              "              style=\"display:none;\">\n",
              "        \n",
              "  <svg xmlns=\"http://www.w3.org/2000/svg\" height=\"24px\"viewBox=\"0 0 24 24\"\n",
              "       width=\"24px\">\n",
              "    <path d=\"M0 0h24v24H0V0z\" fill=\"none\"/>\n",
              "    <path d=\"M18.56 5.44l.94 2.06.94-2.06 2.06-.94-2.06-.94-.94-2.06-.94 2.06-2.06.94zm-11 1L8.5 8.5l.94-2.06 2.06-.94-2.06-.94L8.5 2.5l-.94 2.06-2.06.94zm10 10l.94 2.06.94-2.06 2.06-.94-2.06-.94-.94-2.06-.94 2.06-2.06.94z\"/><path d=\"M17.41 7.96l-1.37-1.37c-.4-.4-.92-.59-1.43-.59-.52 0-1.04.2-1.43.59L10.3 9.45l-7.72 7.72c-.78.78-.78 2.05 0 2.83L4 21.41c.39.39.9.59 1.41.59.51 0 1.02-.2 1.41-.59l7.78-7.78 2.81-2.81c.8-.78.8-2.07 0-2.86zM5.41 20L4 18.59l7.72-7.72 1.47 1.35L5.41 20z\"/>\n",
              "  </svg>\n",
              "      </button>\n",
              "      \n",
              "  <style>\n",
              "    .colab-df-container {\n",
              "      display:flex;\n",
              "      flex-wrap:wrap;\n",
              "      gap: 12px;\n",
              "    }\n",
              "\n",
              "    .colab-df-convert {\n",
              "      background-color: #E8F0FE;\n",
              "      border: none;\n",
              "      border-radius: 50%;\n",
              "      cursor: pointer;\n",
              "      display: none;\n",
              "      fill: #1967D2;\n",
              "      height: 32px;\n",
              "      padding: 0 0 0 0;\n",
              "      width: 32px;\n",
              "    }\n",
              "\n",
              "    .colab-df-convert:hover {\n",
              "      background-color: #E2EBFA;\n",
              "      box-shadow: 0px 1px 2px rgba(60, 64, 67, 0.3), 0px 1px 3px 1px rgba(60, 64, 67, 0.15);\n",
              "      fill: #174EA6;\n",
              "    }\n",
              "\n",
              "    [theme=dark] .colab-df-convert {\n",
              "      background-color: #3B4455;\n",
              "      fill: #D2E3FC;\n",
              "    }\n",
              "\n",
              "    [theme=dark] .colab-df-convert:hover {\n",
              "      background-color: #434B5C;\n",
              "      box-shadow: 0px 1px 3px 1px rgba(0, 0, 0, 0.15);\n",
              "      filter: drop-shadow(0px 1px 2px rgba(0, 0, 0, 0.3));\n",
              "      fill: #FFFFFF;\n",
              "    }\n",
              "  </style>\n",
              "\n",
              "      <script>\n",
              "        const buttonEl =\n",
              "          document.querySelector('#df-44384073-b95c-4f01-8399-0b90fa01d0e8 button.colab-df-convert');\n",
              "        buttonEl.style.display =\n",
              "          google.colab.kernel.accessAllowed ? 'block' : 'none';\n",
              "\n",
              "        async function convertToInteractive(key) {\n",
              "          const element = document.querySelector('#df-44384073-b95c-4f01-8399-0b90fa01d0e8');\n",
              "          const dataTable =\n",
              "            await google.colab.kernel.invokeFunction('convertToInteractive',\n",
              "                                                     [key], {});\n",
              "          if (!dataTable) return;\n",
              "\n",
              "          const docLinkHtml = 'Like what you see? Visit the ' +\n",
              "            '<a target=\"_blank\" href=https://colab.research.google.com/notebooks/data_table.ipynb>data table notebook</a>'\n",
              "            + ' to learn more about interactive tables.';\n",
              "          element.innerHTML = '';\n",
              "          dataTable['output_type'] = 'display_data';\n",
              "          await google.colab.output.renderOutput(dataTable, element);\n",
              "          const docLink = document.createElement('div');\n",
              "          docLink.innerHTML = docLinkHtml;\n",
              "          element.appendChild(docLink);\n",
              "        }\n",
              "      </script>\n",
              "    </div>\n",
              "  </div>\n",
              "  "
            ]
          },
          "metadata": {},
          "execution_count": 20
        }
      ]
    },
    {
      "cell_type": "code",
      "source": [
        "# Unzipping the contents of the .zip file to a temporary directory\n",
        "\n",
        "temp_dir = tempfile.TemporaryDirectory()\n",
        "zip_path = input('Enter .zip file path: ')\n",
        "\n",
        "with zipfile.ZipFile(zip_path) as z:\n",
        "  \n",
        "   for zip_info in z.infolist():\n",
        "    if zip_info.filename[-1] == '/':\n",
        "      continue\n",
        "\n",
        "    zip_info.filename = os.path.basename(zip_info.filename)\n",
        "    z.extract(zip_info, temp_dir.name)\n",
        "\n",
        "print('Temp directory path: ' + str(temp_dir.name))"
      ],
      "metadata": {
        "colab": {
          "base_uri": "https://localhost:8080/"
        },
        "id": "STd1AoPKiyBF",
        "outputId": "7623f8db-fd64-4cd6-8de4-d2243688634a"
      },
      "execution_count": 21,
      "outputs": [
        {
          "output_type": "stream",
          "name": "stdout",
          "text": [
            "Enter .zip file path: /content/subtitles_season_13.zip\n",
            "Temp directory path: /tmp/tmpdd53eas3\n"
          ]
        }
      ]
    },
    {
      "cell_type": "code",
      "source": [
        "# Getting the paths of the extracted .srt files\n",
        "\n",
        "srt_paths = []\n",
        "\n",
        "for filename in sorted(glob.glob(os.path.join(temp_dir.name, '*.srt'))):\n",
        "  srt_paths.append(filename)"
      ],
      "metadata": {
        "id": "d-G_pCRq_Y1H"
      },
      "execution_count": 22,
      "outputs": []
    },
    {
      "cell_type": "markdown",
      "source": [
        "# Cleaning the data"
      ],
      "metadata": {
        "id": "-M1RYXZSu5zE"
      }
    },
    {
      "cell_type": "markdown",
      "source": [
        "Before aligning the files, the following cleaning was performed on the Excel file:\n",
        "*   Timestamps containing milliseconds were rounded to the nearest second\n",
        "*   Typographical errors were fixed (e.g. \"NA \", \"000:09:20,487\")\n",
        "*   NaNs were replaced with 0s\n",
        "*   Floats were converted to integers\n",
        "\n",
        "\n",
        "\n"
      ],
      "metadata": {
        "id": "PCnGX78avO06"
      }
    },
    {
      "cell_type": "code",
      "source": [
        "# Dropping columns\n",
        "\n",
        "df_excel = df_excel.drop(['Season', 'N_segmento', 'Durata', 'PP_rel', 'SP_rel', 'MC_rel', 'Note'], axis=1)"
      ],
      "metadata": {
        "id": "ky5AGWZbRkbC"
      },
      "execution_count": 23,
      "outputs": []
    },
    {
      "cell_type": "code",
      "source": [
        "# Rounding start timestamps\n",
        "\n",
        "df_excel['Inizio'] = df_excel['Inizio'].astype(str)\n",
        "df_excel['Inizio'] = pd.to_datetime(df_excel['Inizio'], errors = 'coerce')\n",
        "df_excel['Inizio'] = df_excel['Inizio'].dt.round('1s')\n",
        "df_excel['Inizio'] = df_excel['Inizio'].dt.time"
      ],
      "metadata": {
        "id": "zcapaTjDHoBo"
      },
      "execution_count": 24,
      "outputs": []
    },
    {
      "cell_type": "code",
      "source": [
        "# Rounding end timestamps\n",
        "\n",
        "df_excel['Fine'] = df_excel['Fine'].astype(str)\n",
        "df_excel['Fine'] = df_excel['Fine'].apply(lambda x : '00:09:20' if x=='000:09:20,487' else x) # Fixing a value in line 614\n",
        "df_excel['Fine'] = pd.to_datetime(df_excel['Fine'], errors = 'coerce')\n",
        "df_excel['Fine'] = df_excel['Fine'].dt.round('1s')\n",
        "df_excel['Fine'] = df_excel['Fine'].dt.time"
      ],
      "metadata": {
        "id": "dtss6Rm9Ik7l"
      },
      "execution_count": 25,
      "outputs": []
    },
    {
      "cell_type": "code",
      "source": [
        "# Fixing other typographical errors\n",
        "\n",
        "df_excel.PP.replace('NA ', np.nan, inplace=True)\n",
        "df_excel.SP.replace('NA ', np.nan, inplace=True)\n",
        "df_excel.MC.replace('NA ', np.nan, inplace=True)\n",
        "df_excel.MC.replace('SP10', np.nan, inplace=True) # Fixing a value in line 786"
      ],
      "metadata": {
        "id": "CW7-kkqyLT9r"
      },
      "execution_count": 26,
      "outputs": []
    },
    {
      "cell_type": "code",
      "source": [
        "# Replacing NaNs with 0s\n",
        "\n",
        "df_excel = df_excel.fillna(0)"
      ],
      "metadata": {
        "id": "-rlUzJYjLAlv"
      },
      "execution_count": 27,
      "outputs": []
    },
    {
      "cell_type": "code",
      "source": [
        "# Converting floats to ints\n",
        "\n",
        "df_excel['PP'] = df_excel['PP'].astype(int)\n",
        "df_excel['SP'] = df_excel['SP'].astype(int)\n",
        "df_excel['MC'] = df_excel['MC'].astype(int)"
      ],
      "metadata": {
        "id": "08HrTRL0x8YP"
      },
      "execution_count": 28,
      "outputs": []
    },
    {
      "cell_type": "code",
      "source": [
        "# Structure of the .xlsx file after cleaning\n",
        "\n",
        "df_excel"
      ],
      "metadata": {
        "colab": {
          "base_uri": "https://localhost:8080/",
          "height": 424
        },
        "id": "SbAjlUKHHoEG",
        "outputId": "26930695-55d1-4252-f90b-b5c9fa06d944"
      },
      "execution_count": 29,
      "outputs": [
        {
          "output_type": "execute_result",
          "data": {
            "text/plain": [
              "        Codice    Inizio      Fine  PP  SP  MC\n",
              "0     GAS13E01  00:00:00  00:00:44   0   0   0\n",
              "1     GAS13E01  00:00:44  00:00:49   0   0   0\n",
              "2     GAS13E01  00:00:49  00:02:18   0   6   0\n",
              "3     GAS13E01  00:02:18  00:02:36   2   2   2\n",
              "4     GAS13E01  00:02:36  00:03:18   0   6   0\n",
              "...        ...       ...       ...  ..  ..  ..\n",
              "1575  GAS13E24  00:41:23  00:41:43   0   0   0\n",
              "1576  GAS13E24  00:41:43  00:41:47   0   0   6\n",
              "1577  GAS13E24  00:41:47  00:41:59   0   0   0\n",
              "1578  GAS13E24  00:41:59  00:42:10   0   0   6\n",
              "1579  GAS13E24  00:42:10  00:42:18   0   0   0\n",
              "\n",
              "[1580 rows x 6 columns]"
            ],
            "text/html": [
              "\n",
              "  <div id=\"df-3d226d6e-ed70-40a1-b57e-4f1588a231ea\">\n",
              "    <div class=\"colab-df-container\">\n",
              "      <div>\n",
              "<style scoped>\n",
              "    .dataframe tbody tr th:only-of-type {\n",
              "        vertical-align: middle;\n",
              "    }\n",
              "\n",
              "    .dataframe tbody tr th {\n",
              "        vertical-align: top;\n",
              "    }\n",
              "\n",
              "    .dataframe thead th {\n",
              "        text-align: right;\n",
              "    }\n",
              "</style>\n",
              "<table border=\"1\" class=\"dataframe\">\n",
              "  <thead>\n",
              "    <tr style=\"text-align: right;\">\n",
              "      <th></th>\n",
              "      <th>Codice</th>\n",
              "      <th>Inizio</th>\n",
              "      <th>Fine</th>\n",
              "      <th>PP</th>\n",
              "      <th>SP</th>\n",
              "      <th>MC</th>\n",
              "    </tr>\n",
              "  </thead>\n",
              "  <tbody>\n",
              "    <tr>\n",
              "      <th>0</th>\n",
              "      <td>GAS13E01</td>\n",
              "      <td>00:00:00</td>\n",
              "      <td>00:00:44</td>\n",
              "      <td>0</td>\n",
              "      <td>0</td>\n",
              "      <td>0</td>\n",
              "    </tr>\n",
              "    <tr>\n",
              "      <th>1</th>\n",
              "      <td>GAS13E01</td>\n",
              "      <td>00:00:44</td>\n",
              "      <td>00:00:49</td>\n",
              "      <td>0</td>\n",
              "      <td>0</td>\n",
              "      <td>0</td>\n",
              "    </tr>\n",
              "    <tr>\n",
              "      <th>2</th>\n",
              "      <td>GAS13E01</td>\n",
              "      <td>00:00:49</td>\n",
              "      <td>00:02:18</td>\n",
              "      <td>0</td>\n",
              "      <td>6</td>\n",
              "      <td>0</td>\n",
              "    </tr>\n",
              "    <tr>\n",
              "      <th>3</th>\n",
              "      <td>GAS13E01</td>\n",
              "      <td>00:02:18</td>\n",
              "      <td>00:02:36</td>\n",
              "      <td>2</td>\n",
              "      <td>2</td>\n",
              "      <td>2</td>\n",
              "    </tr>\n",
              "    <tr>\n",
              "      <th>4</th>\n",
              "      <td>GAS13E01</td>\n",
              "      <td>00:02:36</td>\n",
              "      <td>00:03:18</td>\n",
              "      <td>0</td>\n",
              "      <td>6</td>\n",
              "      <td>0</td>\n",
              "    </tr>\n",
              "    <tr>\n",
              "      <th>...</th>\n",
              "      <td>...</td>\n",
              "      <td>...</td>\n",
              "      <td>...</td>\n",
              "      <td>...</td>\n",
              "      <td>...</td>\n",
              "      <td>...</td>\n",
              "    </tr>\n",
              "    <tr>\n",
              "      <th>1575</th>\n",
              "      <td>GAS13E24</td>\n",
              "      <td>00:41:23</td>\n",
              "      <td>00:41:43</td>\n",
              "      <td>0</td>\n",
              "      <td>0</td>\n",
              "      <td>0</td>\n",
              "    </tr>\n",
              "    <tr>\n",
              "      <th>1576</th>\n",
              "      <td>GAS13E24</td>\n",
              "      <td>00:41:43</td>\n",
              "      <td>00:41:47</td>\n",
              "      <td>0</td>\n",
              "      <td>0</td>\n",
              "      <td>6</td>\n",
              "    </tr>\n",
              "    <tr>\n",
              "      <th>1577</th>\n",
              "      <td>GAS13E24</td>\n",
              "      <td>00:41:47</td>\n",
              "      <td>00:41:59</td>\n",
              "      <td>0</td>\n",
              "      <td>0</td>\n",
              "      <td>0</td>\n",
              "    </tr>\n",
              "    <tr>\n",
              "      <th>1578</th>\n",
              "      <td>GAS13E24</td>\n",
              "      <td>00:41:59</td>\n",
              "      <td>00:42:10</td>\n",
              "      <td>0</td>\n",
              "      <td>0</td>\n",
              "      <td>6</td>\n",
              "    </tr>\n",
              "    <tr>\n",
              "      <th>1579</th>\n",
              "      <td>GAS13E24</td>\n",
              "      <td>00:42:10</td>\n",
              "      <td>00:42:18</td>\n",
              "      <td>0</td>\n",
              "      <td>0</td>\n",
              "      <td>0</td>\n",
              "    </tr>\n",
              "  </tbody>\n",
              "</table>\n",
              "<p>1580 rows × 6 columns</p>\n",
              "</div>\n",
              "      <button class=\"colab-df-convert\" onclick=\"convertToInteractive('df-3d226d6e-ed70-40a1-b57e-4f1588a231ea')\"\n",
              "              title=\"Convert this dataframe to an interactive table.\"\n",
              "              style=\"display:none;\">\n",
              "        \n",
              "  <svg xmlns=\"http://www.w3.org/2000/svg\" height=\"24px\"viewBox=\"0 0 24 24\"\n",
              "       width=\"24px\">\n",
              "    <path d=\"M0 0h24v24H0V0z\" fill=\"none\"/>\n",
              "    <path d=\"M18.56 5.44l.94 2.06.94-2.06 2.06-.94-2.06-.94-.94-2.06-.94 2.06-2.06.94zm-11 1L8.5 8.5l.94-2.06 2.06-.94-2.06-.94L8.5 2.5l-.94 2.06-2.06.94zm10 10l.94 2.06.94-2.06 2.06-.94-2.06-.94-.94-2.06-.94 2.06-2.06.94z\"/><path d=\"M17.41 7.96l-1.37-1.37c-.4-.4-.92-.59-1.43-.59-.52 0-1.04.2-1.43.59L10.3 9.45l-7.72 7.72c-.78.78-.78 2.05 0 2.83L4 21.41c.39.39.9.59 1.41.59.51 0 1.02-.2 1.41-.59l7.78-7.78 2.81-2.81c.8-.78.8-2.07 0-2.86zM5.41 20L4 18.59l7.72-7.72 1.47 1.35L5.41 20z\"/>\n",
              "  </svg>\n",
              "      </button>\n",
              "      \n",
              "  <style>\n",
              "    .colab-df-container {\n",
              "      display:flex;\n",
              "      flex-wrap:wrap;\n",
              "      gap: 12px;\n",
              "    }\n",
              "\n",
              "    .colab-df-convert {\n",
              "      background-color: #E8F0FE;\n",
              "      border: none;\n",
              "      border-radius: 50%;\n",
              "      cursor: pointer;\n",
              "      display: none;\n",
              "      fill: #1967D2;\n",
              "      height: 32px;\n",
              "      padding: 0 0 0 0;\n",
              "      width: 32px;\n",
              "    }\n",
              "\n",
              "    .colab-df-convert:hover {\n",
              "      background-color: #E2EBFA;\n",
              "      box-shadow: 0px 1px 2px rgba(60, 64, 67, 0.3), 0px 1px 3px 1px rgba(60, 64, 67, 0.15);\n",
              "      fill: #174EA6;\n",
              "    }\n",
              "\n",
              "    [theme=dark] .colab-df-convert {\n",
              "      background-color: #3B4455;\n",
              "      fill: #D2E3FC;\n",
              "    }\n",
              "\n",
              "    [theme=dark] .colab-df-convert:hover {\n",
              "      background-color: #434B5C;\n",
              "      box-shadow: 0px 1px 3px 1px rgba(0, 0, 0, 0.15);\n",
              "      filter: drop-shadow(0px 1px 2px rgba(0, 0, 0, 0.3));\n",
              "      fill: #FFFFFF;\n",
              "    }\n",
              "  </style>\n",
              "\n",
              "      <script>\n",
              "        const buttonEl =\n",
              "          document.querySelector('#df-3d226d6e-ed70-40a1-b57e-4f1588a231ea button.colab-df-convert');\n",
              "        buttonEl.style.display =\n",
              "          google.colab.kernel.accessAllowed ? 'block' : 'none';\n",
              "\n",
              "        async function convertToInteractive(key) {\n",
              "          const element = document.querySelector('#df-3d226d6e-ed70-40a1-b57e-4f1588a231ea');\n",
              "          const dataTable =\n",
              "            await google.colab.kernel.invokeFunction('convertToInteractive',\n",
              "                                                     [key], {});\n",
              "          if (!dataTable) return;\n",
              "\n",
              "          const docLinkHtml = 'Like what you see? Visit the ' +\n",
              "            '<a target=\"_blank\" href=https://colab.research.google.com/notebooks/data_table.ipynb>data table notebook</a>'\n",
              "            + ' to learn more about interactive tables.';\n",
              "          element.innerHTML = '';\n",
              "          dataTable['output_type'] = 'display_data';\n",
              "          await google.colab.output.renderOutput(dataTable, element);\n",
              "          const docLink = document.createElement('div');\n",
              "          docLink.innerHTML = docLinkHtml;\n",
              "          element.appendChild(docLink);\n",
              "        }\n",
              "      </script>\n",
              "    </div>\n",
              "  </div>\n",
              "  "
            ]
          },
          "metadata": {},
          "execution_count": 29
        }
      ]
    },
    {
      "cell_type": "markdown",
      "source": [
        "# Splitting the Excel file by episode"
      ],
      "metadata": {
        "id": "C5t1LQ_vyjm7"
      }
    },
    {
      "cell_type": "markdown",
      "source": [
        "The idea behind the following section is to split the Excel file so that each episode is stored as a separate DataFrame. This way, the procedure followed in episode_12x01_data_preparation.ipynb can be reimplemented for multiple episodes as well."
      ],
      "metadata": {
        "id": "47zkTQP91NGf"
      }
    },
    {
      "cell_type": "code",
      "source": [
        "# Finding where each episode starts and ends\n",
        "\n",
        "episode_start = []\n",
        "episode_end = []\n",
        "episode_start.append(0)\n",
        "\n",
        "for idx, val in enumerate(df_excel.Codice):\n",
        "\n",
        "    try:\n",
        "      if df_excel.Codice[idx] != df_excel.Codice[idx+1]:\n",
        "        episode_end.append(idx)\n",
        "        episode_start.append(idx+1)\n",
        "    \n",
        "    except Exception:\n",
        "      episode_end.append(len(df_excel.Codice))"
      ],
      "metadata": {
        "id": "fJ1v6ti518gv"
      },
      "execution_count": 30,
      "outputs": []
    },
    {
      "cell_type": "code",
      "source": [
        "# Boundaries of each episode\n",
        "\n",
        "print(episode_start)\n",
        "print(episode_end)"
      ],
      "metadata": {
        "colab": {
          "base_uri": "https://localhost:8080/"
        },
        "id": "flyqi52x1-5i",
        "outputId": "9dac839b-0404-4afd-f5c7-906cbcaa8226"
      },
      "execution_count": 31,
      "outputs": [
        {
          "output_type": "stream",
          "name": "stdout",
          "text": [
            "[0, 47, 112, 162, 221, 278, 331, 387, 443, 497, 542, 601, 654, 714, 818, 893, 963, 1034, 1098, 1171, 1261, 1324, 1392, 1474]\n",
            "[46, 111, 161, 220, 277, 330, 386, 442, 496, 541, 600, 653, 713, 817, 892, 962, 1033, 1097, 1170, 1260, 1323, 1391, 1473, 1580]\n"
          ]
        }
      ]
    },
    {
      "cell_type": "code",
      "source": [
        "# Storing each episode as a separate DataFrame\n",
        "\n",
        "df_episodes_list = []\n",
        "\n",
        "for ep_start, ep_end in zip(episode_start, episode_end):\n",
        "\n",
        "  df_episode = df_excel.loc[ep_start:ep_end]\n",
        "  df_episodes_list.append(df_episode)\n",
        "\n",
        "print('Total episodes: ' + str(len(df_episodes_list)))"
      ],
      "metadata": {
        "colab": {
          "base_uri": "https://localhost:8080/"
        },
        "id": "u_MXlfd82Y9p",
        "outputId": "5bef6e02-d686-4e5f-f478-0dba44c6d6b4"
      },
      "execution_count": 32,
      "outputs": [
        {
          "output_type": "stream",
          "name": "stdout",
          "text": [
            "Total episodes: 24\n"
          ]
        }
      ]
    },
    {
      "cell_type": "markdown",
      "source": [
        "# Defining the functions"
      ],
      "metadata": {
        "id": "GabFkEvAYRZN"
      }
    },
    {
      "cell_type": "markdown",
      "source": [
        "The following functions reimplement the procedure that was described in episode_12x01_data_preparation.ipynb. "
      ],
      "metadata": {
        "id": "-4bxBfLYKZzM"
      }
    },
    {
      "cell_type": "code",
      "source": [
        "# Computing the mean of each subtitle's timespan, which is used to align the subs with the Excel segments\n",
        "\n",
        "def average_time(average_times, start_times_datetime, end_times_datetime):\n",
        "\n",
        "  for s, e in zip(start_times_datetime, end_times_datetime):\n",
        "    ts1 = s\n",
        "    ts2 = e\n",
        "    average_time = ts1+(ts2-ts1)/2\n",
        "    average_times.append(average_time)"
      ],
      "metadata": {
        "id": "sinVnGnUjIUi"
      },
      "execution_count": 33,
      "outputs": []
    },
    {
      "cell_type": "markdown",
      "source": [
        "The data extracted from the subtitles and the Excel file can be passed to the functions align_segments() or align_subs(). When executing the code, the user is asked to choose whether to align the data by segment (=to group subtitles that are part of the same segment) or by subtitle (=to display each subtitle independently)."
      ],
      "metadata": {
        "id": "Ep5oQ91kLwaI"
      }
    },
    {
      "cell_type": "code",
      "source": [
        "# If the user selects option [1] when alignment_type() is called, the data is aligned by segment\n",
        "\n",
        "def align_segments(df_subs, codice, inizio, fine, pp, sp, mc, aligned_subs):\n",
        "\n",
        "  for code, start, end, pp, sp, mc in zip(codice, inizio, fine, pp, sp, mc):\n",
        "    \n",
        "    mask = (df_subs['Average'] > start) & (df_subs['Average'] <= end)\n",
        "    mask_df = df_subs.loc[mask]\n",
        "\n",
        "    mask_df = mask_df.drop(['Average'], axis=1)\n",
        "    mask_df['PP'] = pp\n",
        "    mask_df = mask_df.groupby('PP')\n",
        "    mask_df = mask_df['Subtitle text'].agg(lambda column: ''.join(column))\n",
        "    mask_df = mask_df.reset_index(name='Subtitle text')\n",
        "    mask_df.rename(columns={'Subtitle text':'Segment text'}, inplace=True)\n",
        "    mask_df['SP'] = sp\n",
        "    mask_df['MC'] = mc\n",
        "    mask_df['Segment start'] = start   \n",
        "    mask_df['Segment end'] = end\n",
        "    mask_df['Code'] = code\n",
        "    mask_df = mask_df[['Code', 'Segment start', 'Segment end', 'PP', 'SP', 'MC', 'Segment text']]\n",
        "    aligned_subs.append(mask_df)"
      ],
      "metadata": {
        "id": "pjgqD0uD3mrq"
      },
      "execution_count": 34,
      "outputs": []
    },
    {
      "cell_type": "code",
      "source": [
        "# If the user selects option [2] when alignment_type() is called, the data is aligned by subtitle\n",
        "\n",
        "def align_subs(df_subs, codice, inizio, fine, pp, sp, mc, aligned_subs):\n",
        "\n",
        "  for code, start, end, pp, sp, mc in zip(codice, inizio, fine, pp, sp, mc):\n",
        "    \n",
        "    mask = (df_subs['Average'] > start) & (df_subs['Average'] <= end)\n",
        "    mask_df = df_subs.loc[mask]\n",
        "\n",
        "    mask_df['PP'] = pp\n",
        "    mask_df['SP'] = sp\n",
        "    mask_df['MC'] = mc\n",
        "    mask_df['Subtitle start'] = mask_df['Start'].astype(str)\n",
        "    mask_df['Subtitle start'] = mask_df['Subtitle start'].str.replace(r'000$', '', regex=True)  \n",
        "    mask_df['Subtitle end'] = mask_df['End'].astype(str)\n",
        "    mask_df['Subtitle end'] = mask_df['Subtitle end'].str.replace(r'000$', '', regex=True) \n",
        "    mask_df['Start'] = start   \n",
        "    mask_df['End'] = end\n",
        "    mask_df['Code'] = code\n",
        "    mask_df = mask_df[['Code', 'Subtitle start', 'Subtitle end', 'PP', 'SP', 'MC', 'Subtitle text']]\n",
        "    aligned_subs.append(mask_df)"
      ],
      "metadata": {
        "id": "OvGol0TtGuVQ"
      },
      "execution_count": 35,
      "outputs": []
    },
    {
      "cell_type": "markdown",
      "source": [
        "For each episode, the process is the same as before:\n",
        "\n",
        "1.   Parsing and storing subtitles in a DataFrame\n",
        "2.   Calculating the average of the subtitles' timespans\n",
        "3.   Using the average to perform the alignment either by segment or by subtitle\n",
        "4.   Storing the episode's DataFrame in a list \n",
        "5.   Repeating the process until all of the episodes have been aligned"
      ],
      "metadata": {
        "id": "rWdTwdoeNWO0"
      }
    },
    {
      "cell_type": "code",
      "source": [
        "def process_files(xlsx_file, srt_file, reply, aligned_episodes):\n",
        "\n",
        "  df_excel = xlsx_file\n",
        "\n",
        "  with open(srt_file, 'r') as f:\n",
        "    subs = f.read().splitlines()\n",
        "\n",
        "    # Parsing .srt file\n",
        "\n",
        "    re_pattern = r'[0-9]{2}:[0-9]{2}:[0-9]{2},[0-9]{3} -->'\n",
        "    regex = re.compile(re_pattern)\n",
        "\n",
        "    start_times = list(filter(regex.search, subs))\n",
        "    start_times = [time.split(' ')[0] for time in start_times]\n",
        "    start_times_datetime1 = pd.to_datetime(start_times, format='%H:%M:%S,%f')\n",
        "    start_times_datetime2 = pd.Series(start_times_datetime1, name='Start').dt.time\n",
        "\n",
        "    end_times = list(filter(regex.search,subs))\n",
        "    end_times = [time.split(' ')[2] for time in end_times]\n",
        "    end_times_datetime1 = pd.to_datetime(end_times, format='%H:%M:%S,%f')\n",
        "    end_times_datetime2 = pd.Series(end_times_datetime1, name='End').dt.time\n",
        "\n",
        "    subtitles = [[]]\n",
        "\n",
        "    for sub in subs:\n",
        "        if re.match(re_pattern, sub):\n",
        "          subtitles[-1].pop()\n",
        "          subtitles.append([])\n",
        "        else:\n",
        "          subtitles[-1].append(sub)\n",
        "\n",
        "    subtitles = subtitles[1:]\n",
        "    subtitles = [' '.join(x) for x in subtitles]\n",
        "    subtitles = pd.Series(subtitles, name='Subtitle text')\n",
        "\n",
        "    # Averaging timespans\n",
        "\n",
        "    average_times = []\n",
        "    average_time(average_times, start_times_datetime1, end_times_datetime1)\n",
        "    average_times = pd.Series(average_times, name='Average').dt.time\n",
        "\n",
        "    # Creating .srt DataFrame\n",
        "\n",
        "    df_subs = pd.concat([start_times_datetime2, end_times_datetime2, average_times, subtitles], axis=1)\n",
        "    df_subs = df_subs.reset_index(drop=True)\n",
        "\n",
        "    # Matching subtitles with segments\n",
        "\n",
        "    aligned_subs = []\n",
        "\n",
        "    if reply == '1':\n",
        "      align_segments(df_subs, df_excel.Codice, df_excel.Inizio, df_excel.Fine, df_excel.PP, df_excel.SP, df_excel.MC, aligned_subs)\n",
        "    \n",
        "    if reply == '2':\n",
        "      align_subs(df_subs, df_excel.Codice, df_excel.Inizio, df_excel.Fine, df_excel.PP, df_excel.SP, df_excel.MC, aligned_subs)\n",
        "\n",
        "    else:\n",
        "      pass\n",
        "\n",
        "    # Appending aligned episode to episode list\n",
        "\n",
        "    aligned_file = pd.concat(aligned_subs)\n",
        "    aligned_file.reset_index(drop=True)\n",
        "    aligned_episodes.append(aligned_file)"
      ],
      "metadata": {
        "id": "buWguAa7hgUe"
      },
      "execution_count": 36,
      "outputs": []
    },
    {
      "cell_type": "markdown",
      "source": [
        "# Aligning the episodes"
      ],
      "metadata": {
        "id": "dnnAMqWjNU_R"
      }
    },
    {
      "cell_type": "markdown",
      "source": [
        "Calling the functions described above to perform the alignment."
      ],
      "metadata": {
        "id": "svh5MkOL_s5M"
      }
    },
    {
      "cell_type": "code",
      "source": [
        "aligned_episodes = []\n",
        "\n",
        "def alignment_type(question):\n",
        "\n",
        "  reply = str(input(question)).lower().strip()\n",
        "  \n",
        "  print('Aligning episodes...')\n",
        "\n",
        "  for xlsx, srt in zip(df_episodes_list, srt_paths):\n",
        "      process_files(xlsx, srt, reply, aligned_episodes)"
      ],
      "metadata": {
        "id": "teAcs2MlCnTi"
      },
      "execution_count": 37,
      "outputs": []
    },
    {
      "cell_type": "code",
      "source": [
        "alignment_type('Align by segment [1] or Align by subtitle [2]? ') "
      ],
      "metadata": {
        "colab": {
          "base_uri": "https://localhost:8080/"
        },
        "id": "f0zowA6jF893",
        "outputId": "01aae5be-9520-4e8b-fd00-ca699e963c27"
      },
      "execution_count": 38,
      "outputs": [
        {
          "output_type": "stream",
          "name": "stdout",
          "text": [
            "Align by segment [1] or Align by subtitle [2]? 1\n",
            "Aligning episodes...\n"
          ]
        }
      ]
    },
    {
      "cell_type": "markdown",
      "source": [
        "The list containing each episode's DataFrame is merged with pd.concat() to create a single DataFrame with all of the aligned data."
      ],
      "metadata": {
        "id": "5hXtkefdPlJE"
      }
    },
    {
      "cell_type": "code",
      "source": [
        "season_df = pd.concat(aligned_episodes)\n",
        "season_df = season_df.reset_index(drop=True)\n",
        "season_df"
      ],
      "metadata": {
        "id": "d-iqfspWM-yh",
        "colab": {
          "base_uri": "https://localhost:8080/",
          "height": 3217
        },
        "outputId": "7bc2af86-c58e-4019-f449-c3c1926dec30"
      },
      "execution_count": 43,
      "outputs": [
        {
          "output_type": "execute_result",
          "data": {
            "text/plain": [
              "          Code Segment start Segment end  PP  SP  MC  \\\n",
              "0     GAS13E01      00:00:00    00:00:44   0   0   0   \n",
              "1     GAS13E01      00:00:44    00:00:49   0   0   0   \n",
              "2     GAS13E01      00:00:49    00:02:18   0   6   0   \n",
              "3     GAS13E01      00:02:18    00:02:36   2   2   2   \n",
              "4     GAS13E01      00:02:36    00:03:18   0   6   0   \n",
              "...        ...           ...         ...  ..  ..  ..   \n",
              "1466  GAS13E24      00:40:58    00:41:23   0   0   6   \n",
              "1467  GAS13E24      00:41:23    00:41:43   0   0   0   \n",
              "1468  GAS13E24      00:41:43    00:41:47   0   0   6   \n",
              "1469  GAS13E24      00:41:59    00:42:10   0   0   6   \n",
              "1470  GAS13E24      00:42:10    00:42:18   0   0   0   \n",
              "\n",
              "                                           Segment text  \n",
              "0     <i>Previously on \"Grey's Anatomy\"...</i> I wan...  \n",
              "1                                                    ♪   \n",
              "2     ♪ I ain't got no problem ♪ ♪ That's for real ♪...  \n",
              "3     [Siren wails] Isaac: What do we got? We got a ...  \n",
              "4     Two champagnes. You got it. I thought you were...  \n",
              "...                                                 ...  \n",
              "1466  [Engine starts] <i>Nobody wakes up thinking, \"...  \n",
              "1467  <i>Sometimes, we wake up, we face our fears......  \n",
              "1468               <i>We take them by the hand.</i> ♪♪   \n",
              "1469  ♪ So far away ♪ <i>- And we stand there, waiti...  \n",
              "1470  ♪ But you don't see me standing here ♪ Synced ...  \n",
              "\n",
              "[1471 rows x 7 columns]"
            ],
            "text/html": [
              "\n",
              "  <div id=\"df-d60a6545-47bf-4bd8-9a6e-589c977f60e2\">\n",
              "    <div class=\"colab-df-container\">\n",
              "      <div>\n",
              "<style scoped>\n",
              "    .dataframe tbody tr th:only-of-type {\n",
              "        vertical-align: middle;\n",
              "    }\n",
              "\n",
              "    .dataframe tbody tr th {\n",
              "        vertical-align: top;\n",
              "    }\n",
              "\n",
              "    .dataframe thead th {\n",
              "        text-align: right;\n",
              "    }\n",
              "</style>\n",
              "<table border=\"1\" class=\"dataframe\">\n",
              "  <thead>\n",
              "    <tr style=\"text-align: right;\">\n",
              "      <th></th>\n",
              "      <th>Code</th>\n",
              "      <th>Segment start</th>\n",
              "      <th>Segment end</th>\n",
              "      <th>PP</th>\n",
              "      <th>SP</th>\n",
              "      <th>MC</th>\n",
              "      <th>Segment text</th>\n",
              "    </tr>\n",
              "  </thead>\n",
              "  <tbody>\n",
              "    <tr>\n",
              "      <th>0</th>\n",
              "      <td>GAS13E01</td>\n",
              "      <td>00:00:00</td>\n",
              "      <td>00:00:44</td>\n",
              "      <td>0</td>\n",
              "      <td>0</td>\n",
              "      <td>0</td>\n",
              "      <td>&lt;i&gt;Previously on \"Grey's Anatomy\"...&lt;/i&gt; I wan...</td>\n",
              "    </tr>\n",
              "    <tr>\n",
              "      <th>1</th>\n",
              "      <td>GAS13E01</td>\n",
              "      <td>00:00:44</td>\n",
              "      <td>00:00:49</td>\n",
              "      <td>0</td>\n",
              "      <td>0</td>\n",
              "      <td>0</td>\n",
              "      <td>♪</td>\n",
              "    </tr>\n",
              "    <tr>\n",
              "      <th>2</th>\n",
              "      <td>GAS13E01</td>\n",
              "      <td>00:00:49</td>\n",
              "      <td>00:02:18</td>\n",
              "      <td>0</td>\n",
              "      <td>6</td>\n",
              "      <td>0</td>\n",
              "      <td>♪ I ain't got no problem ♪ ♪ That's for real ♪...</td>\n",
              "    </tr>\n",
              "    <tr>\n",
              "      <th>3</th>\n",
              "      <td>GAS13E01</td>\n",
              "      <td>00:02:18</td>\n",
              "      <td>00:02:36</td>\n",
              "      <td>2</td>\n",
              "      <td>2</td>\n",
              "      <td>2</td>\n",
              "      <td>[Siren wails] Isaac: What do we got? We got a ...</td>\n",
              "    </tr>\n",
              "    <tr>\n",
              "      <th>4</th>\n",
              "      <td>GAS13E01</td>\n",
              "      <td>00:02:36</td>\n",
              "      <td>00:03:18</td>\n",
              "      <td>0</td>\n",
              "      <td>6</td>\n",
              "      <td>0</td>\n",
              "      <td>Two champagnes. You got it. I thought you were...</td>\n",
              "    </tr>\n",
              "    <tr>\n",
              "      <th>...</th>\n",
              "      <td>...</td>\n",
              "      <td>...</td>\n",
              "      <td>...</td>\n",
              "      <td>...</td>\n",
              "      <td>...</td>\n",
              "      <td>...</td>\n",
              "      <td>...</td>\n",
              "    </tr>\n",
              "    <tr>\n",
              "      <th>1466</th>\n",
              "      <td>GAS13E24</td>\n",
              "      <td>00:40:58</td>\n",
              "      <td>00:41:23</td>\n",
              "      <td>0</td>\n",
              "      <td>0</td>\n",
              "      <td>6</td>\n",
              "      <td>[Engine starts] &lt;i&gt;Nobody wakes up thinking, \"...</td>\n",
              "    </tr>\n",
              "    <tr>\n",
              "      <th>1467</th>\n",
              "      <td>GAS13E24</td>\n",
              "      <td>00:41:23</td>\n",
              "      <td>00:41:43</td>\n",
              "      <td>0</td>\n",
              "      <td>0</td>\n",
              "      <td>0</td>\n",
              "      <td>&lt;i&gt;Sometimes, we wake up, we face our fears......</td>\n",
              "    </tr>\n",
              "    <tr>\n",
              "      <th>1468</th>\n",
              "      <td>GAS13E24</td>\n",
              "      <td>00:41:43</td>\n",
              "      <td>00:41:47</td>\n",
              "      <td>0</td>\n",
              "      <td>0</td>\n",
              "      <td>6</td>\n",
              "      <td>&lt;i&gt;We take them by the hand.&lt;/i&gt; ♪♪</td>\n",
              "    </tr>\n",
              "    <tr>\n",
              "      <th>1469</th>\n",
              "      <td>GAS13E24</td>\n",
              "      <td>00:41:59</td>\n",
              "      <td>00:42:10</td>\n",
              "      <td>0</td>\n",
              "      <td>0</td>\n",
              "      <td>6</td>\n",
              "      <td>♪ So far away ♪ &lt;i&gt;- And we stand there, waiti...</td>\n",
              "    </tr>\n",
              "    <tr>\n",
              "      <th>1470</th>\n",
              "      <td>GAS13E24</td>\n",
              "      <td>00:42:10</td>\n",
              "      <td>00:42:18</td>\n",
              "      <td>0</td>\n",
              "      <td>0</td>\n",
              "      <td>0</td>\n",
              "      <td>♪ But you don't see me standing here ♪ Synced ...</td>\n",
              "    </tr>\n",
              "  </tbody>\n",
              "</table>\n",
              "<p>1471 rows × 7 columns</p>\n",
              "</div>\n",
              "      <button class=\"colab-df-convert\" onclick=\"convertToInteractive('df-d60a6545-47bf-4bd8-9a6e-589c977f60e2')\"\n",
              "              title=\"Convert this dataframe to an interactive table.\"\n",
              "              style=\"display:none;\">\n",
              "        \n",
              "  <svg xmlns=\"http://www.w3.org/2000/svg\" height=\"24px\"viewBox=\"0 0 24 24\"\n",
              "       width=\"24px\">\n",
              "    <path d=\"M0 0h24v24H0V0z\" fill=\"none\"/>\n",
              "    <path d=\"M18.56 5.44l.94 2.06.94-2.06 2.06-.94-2.06-.94-.94-2.06-.94 2.06-2.06.94zm-11 1L8.5 8.5l.94-2.06 2.06-.94-2.06-.94L8.5 2.5l-.94 2.06-2.06.94zm10 10l.94 2.06.94-2.06 2.06-.94-2.06-.94-.94-2.06-.94 2.06-2.06.94z\"/><path d=\"M17.41 7.96l-1.37-1.37c-.4-.4-.92-.59-1.43-.59-.52 0-1.04.2-1.43.59L10.3 9.45l-7.72 7.72c-.78.78-.78 2.05 0 2.83L4 21.41c.39.39.9.59 1.41.59.51 0 1.02-.2 1.41-.59l7.78-7.78 2.81-2.81c.8-.78.8-2.07 0-2.86zM5.41 20L4 18.59l7.72-7.72 1.47 1.35L5.41 20z\"/>\n",
              "  </svg>\n",
              "      </button>\n",
              "      \n",
              "  <style>\n",
              "    .colab-df-container {\n",
              "      display:flex;\n",
              "      flex-wrap:wrap;\n",
              "      gap: 12px;\n",
              "    }\n",
              "\n",
              "    .colab-df-convert {\n",
              "      background-color: #E8F0FE;\n",
              "      border: none;\n",
              "      border-radius: 50%;\n",
              "      cursor: pointer;\n",
              "      display: none;\n",
              "      fill: #1967D2;\n",
              "      height: 32px;\n",
              "      padding: 0 0 0 0;\n",
              "      width: 32px;\n",
              "    }\n",
              "\n",
              "    .colab-df-convert:hover {\n",
              "      background-color: #E2EBFA;\n",
              "      box-shadow: 0px 1px 2px rgba(60, 64, 67, 0.3), 0px 1px 3px 1px rgba(60, 64, 67, 0.15);\n",
              "      fill: #174EA6;\n",
              "    }\n",
              "\n",
              "    [theme=dark] .colab-df-convert {\n",
              "      background-color: #3B4455;\n",
              "      fill: #D2E3FC;\n",
              "    }\n",
              "\n",
              "    [theme=dark] .colab-df-convert:hover {\n",
              "      background-color: #434B5C;\n",
              "      box-shadow: 0px 1px 3px 1px rgba(0, 0, 0, 0.15);\n",
              "      filter: drop-shadow(0px 1px 2px rgba(0, 0, 0, 0.3));\n",
              "      fill: #FFFFFF;\n",
              "    }\n",
              "  </style>\n",
              "\n",
              "      <script>\n",
              "        const buttonEl =\n",
              "          document.querySelector('#df-d60a6545-47bf-4bd8-9a6e-589c977f60e2 button.colab-df-convert');\n",
              "        buttonEl.style.display =\n",
              "          google.colab.kernel.accessAllowed ? 'block' : 'none';\n",
              "\n",
              "        async function convertToInteractive(key) {\n",
              "          const element = document.querySelector('#df-d60a6545-47bf-4bd8-9a6e-589c977f60e2');\n",
              "          const dataTable =\n",
              "            await google.colab.kernel.invokeFunction('convertToInteractive',\n",
              "                                                     [key], {});\n",
              "          if (!dataTable) return;\n",
              "\n",
              "          const docLinkHtml = 'Like what you see? Visit the ' +\n",
              "            '<a target=\"_blank\" href=https://colab.research.google.com/notebooks/data_table.ipynb>data table notebook</a>'\n",
              "            + ' to learn more about interactive tables.';\n",
              "          element.innerHTML = '';\n",
              "          dataTable['output_type'] = 'display_data';\n",
              "          await google.colab.output.renderOutput(dataTable, element);\n",
              "          const docLink = document.createElement('div');\n",
              "          docLink.innerHTML = docLinkHtml;\n",
              "          element.appendChild(docLink);\n",
              "        }\n",
              "      </script>\n",
              "    </div>\n",
              "  </div>\n",
              "  "
            ]
          },
          "metadata": {},
          "execution_count": 43
        }
      ]
    },
    {
      "cell_type": "markdown",
      "source": [
        "# Deleting temporary files"
      ],
      "metadata": {
        "id": "TWgwkCO25s3k"
      }
    },
    {
      "cell_type": "markdown",
      "source": [
        "Deleting the temporary directory where the extracted .srt files were stored."
      ],
      "metadata": {
        "id": "BbODKG8LP6Gf"
      }
    },
    {
      "cell_type": "code",
      "source": [
        "shutil.rmtree(temp_dir.name)"
      ],
      "metadata": {
        "id": "GTq7g744t2e3"
      },
      "execution_count": 40,
      "outputs": []
    },
    {
      "cell_type": "markdown",
      "source": [
        "# Exporting to Excel"
      ],
      "metadata": {
        "id": "vPGbJivv5pFW"
      }
    },
    {
      "cell_type": "code",
      "source": [
        "def yes_or_no(question):\n",
        "    reply = str(input(question+' [y/n]: ')).lower().strip()\n",
        "    if reply[0] == 'y':\n",
        "        return season_df.to_excel('season_13_with_subtitles.xlsx')\n",
        "        print('Exported to Excel')\n",
        "    if reply[0] == 'n':\n",
        "        pass\n",
        "    else:\n",
        "        pass"
      ],
      "metadata": {
        "id": "DSgHWnsxrErw"
      },
      "execution_count": 41,
      "outputs": []
    },
    {
      "cell_type": "code",
      "source": [
        "yes_or_no('Export to Excel?') "
      ],
      "metadata": {
        "colab": {
          "base_uri": "https://localhost:8080/"
        },
        "id": "isgYMmsLtMYu",
        "outputId": "6cdbe33c-6be7-498c-8791-4c1b36f24609"
      },
      "execution_count": 44,
      "outputs": [
        {
          "name": "stdout",
          "output_type": "stream",
          "text": [
            "Export to Excel? [y/n]: y\n"
          ]
        }
      ]
    }
  ]
}